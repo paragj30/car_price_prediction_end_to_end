{
  "cells": [
    {
      "cell_type": "markdown",
      "id": "62d7d0ca",
      "metadata": {
        "id": "62d7d0ca"
      },
      "source": [
        "### Import all libraries"
      ]
    },
    {
      "cell_type": "code",
      "execution_count": 142,
      "id": "62bc0e8d",
      "metadata": {
        "id": "62bc0e8d"
      },
      "outputs": [],
      "source": [
        "import pandas as pd\n",
        "import numpy as np\n",
        "\n",
        "# Data transformation \n",
        "from sklearn.model_selection import train_test_split\n",
        "from sklearn.preprocessing import OneHotEncoder\n",
        "from sklearn.preprocessing import StandardScaler, MinMaxScaler\n",
        "from sklearn.decomposition import PCA\n",
        "from sklearn.compose import ColumnTransformer\n",
        "\n",
        "\n",
        "# Modelling\n",
        "from sklearn.linear_model import LinearRegression\n",
        "from sklearn.neighbors import KNeighborsRegressor\n",
        "from sklearn.tree import DecisionTreeRegressor\n",
        "from sklearn.svm import SVR\n",
        "from sklearn.ensemble import RandomForestRegressor,AdaBoostRegressor\n",
        "from sklearn.linear_model import LinearRegression, Ridge,Lasso\n",
        "from catboost import CatBoostRegressor\n",
        "from xgboost import XGBRegressor\n",
        "\n",
        "from sklearn.model_selection import GridSearchCV, RandomizedSearchCV\n",
        "from sklearn.metrics import r2_score, mean_absolute_error, mean_squared_error"
      ]
    },
    {
      "cell_type": "markdown",
      "id": "078352ad",
      "metadata": {
        "id": "078352ad"
      },
      "source": [
        "Here, we have loaded 3 types of Libraries\n",
        "\n",
        "a) Inbuilt Library\n",
        "\n",
        "b) Skitlearn Library"
      ]
    },
    {
      "cell_type": "markdown",
      "id": "e180141f",
      "metadata": {
        "id": "e180141f"
      },
      "source": [
        "## Data Collection"
      ]
    },
    {
      "cell_type": "markdown",
      "id": "bb1b1c39",
      "metadata": {
        "id": "bb1b1c39"
      },
      "source": [
        "According to client inputs, our domain experts and data analysts team created the dataset in.CSV format. Additionally, we will train our machine learning (ML) algorithm using the same dataset."
      ]
    },
    {
      "cell_type": "code",
      "execution_count": 143,
      "id": "23b59d14",
      "metadata": {
        "colab": {
          "base_uri": "https://localhost:8080/",
          "height": 354
        },
        "id": "23b59d14",
        "outputId": "6bd7cf34-e2a0-46ef-dd1a-42d12ccf1192"
      },
      "outputs": [
        {
          "data": {
            "text/html": [
              "<div>\n",
              "<style scoped>\n",
              "    .dataframe tbody tr th:only-of-type {\n",
              "        vertical-align: middle;\n",
              "    }\n",
              "\n",
              "    .dataframe tbody tr th {\n",
              "        vertical-align: top;\n",
              "    }\n",
              "\n",
              "    .dataframe thead th {\n",
              "        text-align: right;\n",
              "    }\n",
              "</style>\n",
              "<table border=\"1\" class=\"dataframe\">\n",
              "  <thead>\n",
              "    <tr style=\"text-align: right;\">\n",
              "      <th></th>\n",
              "      <th>Make</th>\n",
              "      <th>Model</th>\n",
              "      <th>Year</th>\n",
              "      <th>Engine Fuel Type</th>\n",
              "      <th>Engine HP</th>\n",
              "      <th>Engine Cylinders</th>\n",
              "      <th>Transmission Type</th>\n",
              "      <th>Driven_Wheels</th>\n",
              "      <th>Number of Doors</th>\n",
              "      <th>Market Category</th>\n",
              "      <th>Vehicle Size</th>\n",
              "      <th>Vehicle Style</th>\n",
              "      <th>highway MPG</th>\n",
              "      <th>city mpg</th>\n",
              "      <th>Popularity</th>\n",
              "      <th>MSRP</th>\n",
              "    </tr>\n",
              "  </thead>\n",
              "  <tbody>\n",
              "    <tr>\n",
              "      <th>0</th>\n",
              "      <td>BMW</td>\n",
              "      <td>1 Series M</td>\n",
              "      <td>2011</td>\n",
              "      <td>premium unleaded (required)</td>\n",
              "      <td>335.0</td>\n",
              "      <td>6.0</td>\n",
              "      <td>MANUAL</td>\n",
              "      <td>rear wheel drive</td>\n",
              "      <td>2.0</td>\n",
              "      <td>Factory Tuner,Luxury,High-Performance</td>\n",
              "      <td>Compact</td>\n",
              "      <td>Coupe</td>\n",
              "      <td>26</td>\n",
              "      <td>19</td>\n",
              "      <td>3916</td>\n",
              "      <td>46135</td>\n",
              "    </tr>\n",
              "    <tr>\n",
              "      <th>1</th>\n",
              "      <td>BMW</td>\n",
              "      <td>1 Series</td>\n",
              "      <td>2011</td>\n",
              "      <td>premium unleaded (required)</td>\n",
              "      <td>300.0</td>\n",
              "      <td>6.0</td>\n",
              "      <td>MANUAL</td>\n",
              "      <td>rear wheel drive</td>\n",
              "      <td>2.0</td>\n",
              "      <td>Luxury,Performance</td>\n",
              "      <td>Compact</td>\n",
              "      <td>Convertible</td>\n",
              "      <td>28</td>\n",
              "      <td>19</td>\n",
              "      <td>3916</td>\n",
              "      <td>40650</td>\n",
              "    </tr>\n",
              "    <tr>\n",
              "      <th>2</th>\n",
              "      <td>BMW</td>\n",
              "      <td>1 Series</td>\n",
              "      <td>2011</td>\n",
              "      <td>premium unleaded (required)</td>\n",
              "      <td>300.0</td>\n",
              "      <td>6.0</td>\n",
              "      <td>MANUAL</td>\n",
              "      <td>rear wheel drive</td>\n",
              "      <td>2.0</td>\n",
              "      <td>Luxury,High-Performance</td>\n",
              "      <td>Compact</td>\n",
              "      <td>Coupe</td>\n",
              "      <td>28</td>\n",
              "      <td>20</td>\n",
              "      <td>3916</td>\n",
              "      <td>36350</td>\n",
              "    </tr>\n",
              "    <tr>\n",
              "      <th>3</th>\n",
              "      <td>BMW</td>\n",
              "      <td>1 Series</td>\n",
              "      <td>2011</td>\n",
              "      <td>premium unleaded (required)</td>\n",
              "      <td>230.0</td>\n",
              "      <td>6.0</td>\n",
              "      <td>MANUAL</td>\n",
              "      <td>rear wheel drive</td>\n",
              "      <td>2.0</td>\n",
              "      <td>Luxury,Performance</td>\n",
              "      <td>Compact</td>\n",
              "      <td>Coupe</td>\n",
              "      <td>28</td>\n",
              "      <td>18</td>\n",
              "      <td>3916</td>\n",
              "      <td>29450</td>\n",
              "    </tr>\n",
              "    <tr>\n",
              "      <th>4</th>\n",
              "      <td>BMW</td>\n",
              "      <td>1 Series</td>\n",
              "      <td>2011</td>\n",
              "      <td>premium unleaded (required)</td>\n",
              "      <td>230.0</td>\n",
              "      <td>6.0</td>\n",
              "      <td>MANUAL</td>\n",
              "      <td>rear wheel drive</td>\n",
              "      <td>2.0</td>\n",
              "      <td>Luxury</td>\n",
              "      <td>Compact</td>\n",
              "      <td>Convertible</td>\n",
              "      <td>28</td>\n",
              "      <td>18</td>\n",
              "      <td>3916</td>\n",
              "      <td>34500</td>\n",
              "    </tr>\n",
              "  </tbody>\n",
              "</table>\n",
              "</div>"
            ],
            "text/plain": [
              "  Make       Model  Year             Engine Fuel Type  Engine HP  \\\n",
              "0  BMW  1 Series M  2011  premium unleaded (required)      335.0   \n",
              "1  BMW    1 Series  2011  premium unleaded (required)      300.0   \n",
              "2  BMW    1 Series  2011  premium unleaded (required)      300.0   \n",
              "3  BMW    1 Series  2011  premium unleaded (required)      230.0   \n",
              "4  BMW    1 Series  2011  premium unleaded (required)      230.0   \n",
              "\n",
              "   Engine Cylinders Transmission Type     Driven_Wheels  Number of Doors  \\\n",
              "0               6.0            MANUAL  rear wheel drive              2.0   \n",
              "1               6.0            MANUAL  rear wheel drive              2.0   \n",
              "2               6.0            MANUAL  rear wheel drive              2.0   \n",
              "3               6.0            MANUAL  rear wheel drive              2.0   \n",
              "4               6.0            MANUAL  rear wheel drive              2.0   \n",
              "\n",
              "                         Market Category Vehicle Size Vehicle Style  \\\n",
              "0  Factory Tuner,Luxury,High-Performance      Compact         Coupe   \n",
              "1                     Luxury,Performance      Compact   Convertible   \n",
              "2                Luxury,High-Performance      Compact         Coupe   \n",
              "3                     Luxury,Performance      Compact         Coupe   \n",
              "4                                 Luxury      Compact   Convertible   \n",
              "\n",
              "   highway MPG  city mpg  Popularity   MSRP  \n",
              "0           26        19        3916  46135  \n",
              "1           28        19        3916  40650  \n",
              "2           28        20        3916  36350  \n",
              "3           28        18        3916  29450  \n",
              "4           28        18        3916  34500  "
            ]
          },
          "execution_count": 143,
          "metadata": {},
          "output_type": "execute_result"
        }
      ],
      "source": [
        "df= pd.read_csv('data/Cars_data.csv')\n",
        "df.head()"
      ]
    },
    {
      "cell_type": "markdown",
      "id": "297548cc",
      "metadata": {
        "id": "297548cc"
      },
      "source": [
        "Load the dataset files with csv extension from the dataset folder."
      ]
    },
    {
      "cell_type": "code",
      "execution_count": 144,
      "id": "21fa0632",
      "metadata": {
        "colab": {
          "base_uri": "https://localhost:8080/"
        },
        "id": "21fa0632",
        "outputId": "eeea7e8f-7a9d-4901-cc09-a0c2ecc2fd93"
      },
      "outputs": [
        {
          "name": "stdout",
          "output_type": "stream",
          "text": [
            "No. of Rows:  11914\n",
            "No. of Columns:  16\n"
          ]
        }
      ],
      "source": [
        "print('No. of Rows: ',df.shape[0])\n",
        "print('No. of Columns: ',df.shape[1])"
      ]
    },
    {
      "cell_type": "markdown",
      "id": "4794ce3f",
      "metadata": {
        "id": "4794ce3f"
      },
      "source": [
        "## Data Pre-processing"
      ]
    },
    {
      "cell_type": "markdown",
      "id": "ae4256b3",
      "metadata": {
        "id": "ae4256b3"
      },
      "source": [
        "As we know that, Machine Learning Model doesn't understand the Raw data, Hence we are doing the pre-processing on the data to feed the data to ML algorithm."
      ]
    },
    {
      "cell_type": "code",
      "execution_count": 145,
      "id": "1414e616",
      "metadata": {},
      "outputs": [
        {
          "data": {
            "text/plain": [
              "Make                    0\n",
              "Model                   0\n",
              "Year                    0\n",
              "Engine Fuel Type        3\n",
              "Engine HP              69\n",
              "Engine Cylinders       30\n",
              "Transmission Type       0\n",
              "Driven_Wheels           0\n",
              "Number of Doors         6\n",
              "Market Category      3742\n",
              "Vehicle Size            0\n",
              "Vehicle Style           0\n",
              "highway MPG             0\n",
              "city mpg                0\n",
              "Popularity              0\n",
              "MSRP                    0\n",
              "dtype: int64"
            ]
          },
          "execution_count": 145,
          "metadata": {},
          "output_type": "execute_result"
        }
      ],
      "source": [
        "df.isna().sum()"
      ]
    },
    {
      "cell_type": "code",
      "execution_count": 146,
      "id": "harDOoB6VpBR",
      "metadata": {
        "id": "harDOoB6VpBR"
      },
      "outputs": [],
      "source": [
        "df['Engine Fuel Type'] = df['Engine Fuel Type'].fillna(df['Engine Fuel Type'].mode()[0])\n",
        "df['Engine HP'] = df['Engine HP'].fillna(df['Engine HP'].mean())\n",
        "df['Engine Cylinders'] = df['Engine Cylinders'].fillna(df['Engine Cylinders'].mean())\n",
        "df['Number of Doors'] = df['Number of Doors'].fillna(df['Number of Doors'].mean())\n",
        "df['Market Category'] = df['Market Category'].fillna(df['Market Category'].mode()[0])"
      ]
    },
    {
      "cell_type": "code",
      "execution_count": 147,
      "id": "529b3e29",
      "metadata": {},
      "outputs": [
        {
          "data": {
            "text/plain": [
              "Make                 0\n",
              "Model                0\n",
              "Year                 0\n",
              "Engine Fuel Type     0\n",
              "Engine HP            0\n",
              "Engine Cylinders     0\n",
              "Transmission Type    0\n",
              "Driven_Wheels        0\n",
              "Number of Doors      0\n",
              "Market Category      0\n",
              "Vehicle Size         0\n",
              "Vehicle Style        0\n",
              "highway MPG          0\n",
              "city mpg             0\n",
              "Popularity           0\n",
              "MSRP                 0\n",
              "dtype: int64"
            ]
          },
          "execution_count": 147,
          "metadata": {},
          "output_type": "execute_result"
        }
      ],
      "source": [
        "df.isna().sum()"
      ]
    },
    {
      "cell_type": "markdown",
      "id": "515b779d",
      "metadata": {},
      "source": [
        "### Splitting Features and Lable"
      ]
    },
    {
      "cell_type": "code",
      "execution_count": 148,
      "id": "19efaa2a",
      "metadata": {},
      "outputs": [
        {
          "data": {
            "text/html": [
              "<div>\n",
              "<style scoped>\n",
              "    .dataframe tbody tr th:only-of-type {\n",
              "        vertical-align: middle;\n",
              "    }\n",
              "\n",
              "    .dataframe tbody tr th {\n",
              "        vertical-align: top;\n",
              "    }\n",
              "\n",
              "    .dataframe thead th {\n",
              "        text-align: right;\n",
              "    }\n",
              "</style>\n",
              "<table border=\"1\" class=\"dataframe\">\n",
              "  <thead>\n",
              "    <tr style=\"text-align: right;\">\n",
              "      <th></th>\n",
              "      <th>Make</th>\n",
              "      <th>Model</th>\n",
              "      <th>Year</th>\n",
              "      <th>Engine Fuel Type</th>\n",
              "      <th>Engine HP</th>\n",
              "      <th>Engine Cylinders</th>\n",
              "      <th>Transmission Type</th>\n",
              "      <th>Driven_Wheels</th>\n",
              "      <th>Number of Doors</th>\n",
              "      <th>Market Category</th>\n",
              "      <th>Vehicle Size</th>\n",
              "      <th>Vehicle Style</th>\n",
              "      <th>highway MPG</th>\n",
              "      <th>city mpg</th>\n",
              "      <th>Popularity</th>\n",
              "    </tr>\n",
              "  </thead>\n",
              "  <tbody>\n",
              "    <tr>\n",
              "      <th>0</th>\n",
              "      <td>BMW</td>\n",
              "      <td>1 Series M</td>\n",
              "      <td>2011</td>\n",
              "      <td>premium unleaded (required)</td>\n",
              "      <td>335.0</td>\n",
              "      <td>6.0</td>\n",
              "      <td>MANUAL</td>\n",
              "      <td>rear wheel drive</td>\n",
              "      <td>2.0</td>\n",
              "      <td>Factory Tuner,Luxury,High-Performance</td>\n",
              "      <td>Compact</td>\n",
              "      <td>Coupe</td>\n",
              "      <td>26</td>\n",
              "      <td>19</td>\n",
              "      <td>3916</td>\n",
              "    </tr>\n",
              "    <tr>\n",
              "      <th>1</th>\n",
              "      <td>BMW</td>\n",
              "      <td>1 Series</td>\n",
              "      <td>2011</td>\n",
              "      <td>premium unleaded (required)</td>\n",
              "      <td>300.0</td>\n",
              "      <td>6.0</td>\n",
              "      <td>MANUAL</td>\n",
              "      <td>rear wheel drive</td>\n",
              "      <td>2.0</td>\n",
              "      <td>Luxury,Performance</td>\n",
              "      <td>Compact</td>\n",
              "      <td>Convertible</td>\n",
              "      <td>28</td>\n",
              "      <td>19</td>\n",
              "      <td>3916</td>\n",
              "    </tr>\n",
              "    <tr>\n",
              "      <th>2</th>\n",
              "      <td>BMW</td>\n",
              "      <td>1 Series</td>\n",
              "      <td>2011</td>\n",
              "      <td>premium unleaded (required)</td>\n",
              "      <td>300.0</td>\n",
              "      <td>6.0</td>\n",
              "      <td>MANUAL</td>\n",
              "      <td>rear wheel drive</td>\n",
              "      <td>2.0</td>\n",
              "      <td>Luxury,High-Performance</td>\n",
              "      <td>Compact</td>\n",
              "      <td>Coupe</td>\n",
              "      <td>28</td>\n",
              "      <td>20</td>\n",
              "      <td>3916</td>\n",
              "    </tr>\n",
              "    <tr>\n",
              "      <th>3</th>\n",
              "      <td>BMW</td>\n",
              "      <td>1 Series</td>\n",
              "      <td>2011</td>\n",
              "      <td>premium unleaded (required)</td>\n",
              "      <td>230.0</td>\n",
              "      <td>6.0</td>\n",
              "      <td>MANUAL</td>\n",
              "      <td>rear wheel drive</td>\n",
              "      <td>2.0</td>\n",
              "      <td>Luxury,Performance</td>\n",
              "      <td>Compact</td>\n",
              "      <td>Coupe</td>\n",
              "      <td>28</td>\n",
              "      <td>18</td>\n",
              "      <td>3916</td>\n",
              "    </tr>\n",
              "    <tr>\n",
              "      <th>4</th>\n",
              "      <td>BMW</td>\n",
              "      <td>1 Series</td>\n",
              "      <td>2011</td>\n",
              "      <td>premium unleaded (required)</td>\n",
              "      <td>230.0</td>\n",
              "      <td>6.0</td>\n",
              "      <td>MANUAL</td>\n",
              "      <td>rear wheel drive</td>\n",
              "      <td>2.0</td>\n",
              "      <td>Luxury</td>\n",
              "      <td>Compact</td>\n",
              "      <td>Convertible</td>\n",
              "      <td>28</td>\n",
              "      <td>18</td>\n",
              "      <td>3916</td>\n",
              "    </tr>\n",
              "  </tbody>\n",
              "</table>\n",
              "</div>"
            ],
            "text/plain": [
              "  Make       Model  Year             Engine Fuel Type  Engine HP  \\\n",
              "0  BMW  1 Series M  2011  premium unleaded (required)      335.0   \n",
              "1  BMW    1 Series  2011  premium unleaded (required)      300.0   \n",
              "2  BMW    1 Series  2011  premium unleaded (required)      300.0   \n",
              "3  BMW    1 Series  2011  premium unleaded (required)      230.0   \n",
              "4  BMW    1 Series  2011  premium unleaded (required)      230.0   \n",
              "\n",
              "   Engine Cylinders Transmission Type     Driven_Wheels  Number of Doors  \\\n",
              "0               6.0            MANUAL  rear wheel drive              2.0   \n",
              "1               6.0            MANUAL  rear wheel drive              2.0   \n",
              "2               6.0            MANUAL  rear wheel drive              2.0   \n",
              "3               6.0            MANUAL  rear wheel drive              2.0   \n",
              "4               6.0            MANUAL  rear wheel drive              2.0   \n",
              "\n",
              "                         Market Category Vehicle Size Vehicle Style  \\\n",
              "0  Factory Tuner,Luxury,High-Performance      Compact         Coupe   \n",
              "1                     Luxury,Performance      Compact   Convertible   \n",
              "2                Luxury,High-Performance      Compact         Coupe   \n",
              "3                     Luxury,Performance      Compact         Coupe   \n",
              "4                                 Luxury      Compact   Convertible   \n",
              "\n",
              "   highway MPG  city mpg  Popularity  \n",
              "0           26        19        3916  \n",
              "1           28        19        3916  \n",
              "2           28        20        3916  \n",
              "3           28        18        3916  \n",
              "4           28        18        3916  "
            ]
          },
          "execution_count": 148,
          "metadata": {},
          "output_type": "execute_result"
        }
      ],
      "source": [
        "X = df.drop(columns = ['MSRP'], axis=1)\n",
        "X.head()"
      ]
    },
    {
      "cell_type": "code",
      "execution_count": 149,
      "id": "1316b95d",
      "metadata": {},
      "outputs": [
        {
          "data": {
            "text/plain": [
              "0    46135\n",
              "1    40650\n",
              "2    36350\n",
              "3    29450\n",
              "4    34500\n",
              "Name: MSRP, dtype: int64"
            ]
          },
          "execution_count": 149,
          "metadata": {},
          "output_type": "execute_result"
        }
      ],
      "source": [
        "y = df['MSRP']\n",
        "y.head()"
      ]
    },
    {
      "cell_type": "markdown",
      "id": "93f0a57c",
      "metadata": {
        "id": "93f0a57c"
      },
      "source": [
        "##  Feature Engineering "
      ]
    },
    {
      "cell_type": "markdown",
      "id": "b248b898",
      "metadata": {},
      "source": [
        "### Option: 1"
      ]
    },
    {
      "cell_type": "markdown",
      "id": "7447f8a1",
      "metadata": {
        "id": "7447f8a1"
      },
      "source": [
        "#### Encoding Categorical Attributes"
      ]
    },
    {
      "cell_type": "code",
      "execution_count": 150,
      "id": "491e6f6a",
      "metadata": {
        "colab": {
          "base_uri": "https://localhost:8080/"
        },
        "id": "491e6f6a",
        "outputId": "66652e82-5dd4-4ba0-809f-f44f11cf0040"
      },
      "outputs": [
        {
          "name": "stdout",
          "output_type": "stream",
          "text": [
            "x shape:  (11914, 1647)\n",
            "y shape:  (11914,)\n"
          ]
        }
      ],
      "source": [
        "enc= OneHotEncoder(handle_unknown='ignore')\n",
        "enc.fit(X)\n",
        "\n",
        "X= enc.transform(X)\n",
        "\n",
        "print('x shape: ',X.shape)\n",
        "print('y shape: ',y.shape)"
      ]
    },
    {
      "cell_type": "markdown",
      "id": "60ead2e8",
      "metadata": {
        "id": "60ead2e8"
      },
      "source": [
        "#### Standardization"
      ]
    },
    {
      "cell_type": "code",
      "execution_count": 151,
      "id": "40e3e938",
      "metadata": {
        "colab": {
          "base_uri": "https://localhost:8080/"
        },
        "id": "40e3e938",
        "outputId": "211c98b6-0cc7-4e6a-8023-ceb990ee42ff"
      },
      "outputs": [
        {
          "name": "stdout",
          "output_type": "stream",
          "text": [
            "x shape:  (11914, 1647)\n",
            "y shape:  (11914,)\n"
          ]
        }
      ],
      "source": [
        "scaler=StandardScaler(with_mean=False)\n",
        "scaler.fit(X)\n",
        "\n",
        "X= scaler.transform(X)\n",
        "\n",
        "print('x shape: ',X.shape)\n",
        "print('y shape: ',y.shape)"
      ]
    },
    {
      "cell_type": "markdown",
      "id": "ff4943a0",
      "metadata": {
        "id": "ff4943a0"
      },
      "source": [
        "#### Dimensionality Reduction"
      ]
    },
    {
      "cell_type": "code",
      "execution_count": 152,
      "id": "3a3ae958",
      "metadata": {
        "colab": {
          "base_uri": "https://localhost:8080/"
        },
        "id": "3a3ae958",
        "outputId": "f30a4374-2fb4-4647-8fd7-e93ee4b5901e"
      },
      "outputs": [
        {
          "name": "stdout",
          "output_type": "stream",
          "text": [
            "x shape:  (11914, 30)\n",
            "y shape:  (11914,)\n"
          ]
        }
      ],
      "source": [
        "pca= PCA(n_components=30)\n",
        "pca.fit(X.toarray())\n",
        "\n",
        "X= pca.transform(X.toarray())\n",
        "\n",
        "print('x shape: ',X.shape)\n",
        "print('y shape: ',y.shape)"
      ]
    },
    {
      "cell_type": "markdown",
      "id": "d807148c",
      "metadata": {},
      "source": [
        "### Option: 2"
      ]
    },
    {
      "cell_type": "code",
      "execution_count": 153,
      "id": "dc34049a",
      "metadata": {},
      "outputs": [
        {
          "data": {
            "text/plain": [
              "'\\n# Create Column Transformer with 3 types of transformers\\nnum_features = X.select_dtypes(exclude=\"object\").columns\\ncat_features = X.select_dtypes(include=\"object\").columns\\n\\nfrom sklearn.impute import SimpleImputer\\n\\nnumeric_transformer = StandardScaler()\\noh_transformer = OneHotEncoder(handle_unknown=False)\\n\\npreprocessor = ColumnTransformer(\\n    [\\n        (\"OneHotEncoder\", oh_transformer, cat_features),\\n         (\"StandardScaler\", numeric_transformer, num_features),\\n         (\"PCA\", PCA(n_components=5), cat_features)        \\n    ]\\n)\\n\\nX = preprocessor.fit_transform(X)\\n'"
            ]
          },
          "execution_count": 153,
          "metadata": {},
          "output_type": "execute_result"
        }
      ],
      "source": [
        "'''\n",
        "# Create Column Transformer with 3 types of transformers\n",
        "num_features = X.select_dtypes(exclude=\"object\").columns\n",
        "cat_features = X.select_dtypes(include=\"object\").columns\n",
        "\n",
        "from sklearn.impute import SimpleImputer\n",
        "\n",
        "numeric_transformer = StandardScaler()\n",
        "oh_transformer = OneHotEncoder(handle_unknown=False)\n",
        "\n",
        "preprocessor = ColumnTransformer(\n",
        "    [\n",
        "        (\"OneHotEncoder\", oh_transformer, cat_features),\n",
        "         (\"StandardScaler\", numeric_transformer, num_features),\n",
        "         (\"PCA\", PCA(n_components=5), cat_features)        \n",
        "    ]\n",
        ")\n",
        "\n",
        "X = preprocessor.fit_transform(X)\n",
        "'''"
      ]
    },
    {
      "cell_type": "code",
      "execution_count": 154,
      "id": "df6338fa",
      "metadata": {},
      "outputs": [
        {
          "data": {
            "text/plain": [
              "((9531, 30), (2383, 30))"
            ]
          },
          "execution_count": 154,
          "metadata": {},
          "output_type": "execute_result"
        }
      ],
      "source": [
        "# separate dataset into train and test\n",
        "from sklearn.model_selection import train_test_split\n",
        "X_train, X_test, y_train, y_test = train_test_split(X,y,test_size=0.2,random_state=42)\n",
        "X_train.shape, X_test.shape"
      ]
    },
    {
      "cell_type": "markdown",
      "id": "8555eca9",
      "metadata": {
        "id": "8555eca9"
      },
      "source": [
        "## Model Training"
      ]
    },
    {
      "cell_type": "markdown",
      "id": "3890db38",
      "metadata": {},
      "source": [
        "#### Algorithm Selection without Hyperparameter Tunning"
      ]
    },
    {
      "cell_type": "code",
      "execution_count": 155,
      "id": "58ded818",
      "metadata": {},
      "outputs": [
        {
          "name": "stdout",
          "output_type": "stream",
          "text": [
            "Linear Regression\n",
            "Model performance for Training set\n",
            "- Root Mean Squared Error: 26765.6133\n",
            "- Mean Absolute Error: 12079.8763\n",
            "- R2 Score: 0.8172\n",
            "----------------------------------\n",
            "Model performance for Test set\n",
            "- Root Mean Squared Error: 21875.3019\n",
            "- Mean Absolute Error: 12245.6224\n",
            "- R2 Score: 0.7992\n",
            "===================================\n",
            "\n",
            "\n",
            "Lasso\n",
            "Model performance for Training set\n",
            "- Root Mean Squared Error: 26765.6134\n",
            "- Mean Absolute Error: 12079.7004\n",
            "- R2 Score: 0.8172\n",
            "----------------------------------\n",
            "Model performance for Test set\n",
            "- Root Mean Squared Error: 21875.1701\n",
            "- Mean Absolute Error: 12245.4292\n",
            "- R2 Score: 0.7992\n",
            "===================================\n",
            "\n",
            "\n",
            "Ridge\n",
            "Model performance for Training set\n",
            "- Root Mean Squared Error: 26765.6133\n",
            "- Mean Absolute Error: 12079.7860\n",
            "- R2 Score: 0.8172\n",
            "----------------------------------\n",
            "Model performance for Test set\n",
            "- Root Mean Squared Error: 21875.2193\n",
            "- Mean Absolute Error: 12245.5253\n",
            "- R2 Score: 0.7992\n",
            "===================================\n",
            "\n",
            "\n",
            "K-Neighbors Regressor\n",
            "Model performance for Training set\n",
            "- Root Mean Squared Error: 20094.5260\n",
            "- Mean Absolute Error: 3703.4567\n",
            "- R2 Score: 0.8970\n",
            "----------------------------------\n",
            "Model performance for Test set\n",
            "- Root Mean Squared Error: 13626.1533\n",
            "- Mean Absolute Error: 4202.8602\n",
            "- R2 Score: 0.9221\n",
            "===================================\n",
            "\n",
            "\n",
            "Decision Tree\n",
            "Model performance for Training set\n",
            "- Root Mean Squared Error: 4860.6957\n",
            "- Mean Absolute Error: 1282.1845\n",
            "- R2 Score: 0.9940\n",
            "----------------------------------\n",
            "Model performance for Test set\n",
            "- Root Mean Squared Error: 14222.6935\n",
            "- Mean Absolute Error: 4594.6498\n",
            "- R2 Score: 0.9151\n",
            "===================================\n",
            "\n",
            "\n"
          ]
        },
        {
          "name": "stdout",
          "output_type": "stream",
          "text": [
            "Random Forest Regressor\n",
            "Model performance for Training set\n",
            "- Root Mean Squared Error: 8983.5186\n",
            "- Mean Absolute Error: 2326.9137\n",
            "- R2 Score: 0.9794\n",
            "----------------------------------\n",
            "Model performance for Test set\n",
            "- Root Mean Squared Error: 10769.8905\n",
            "- Mean Absolute Error: 4121.2299\n",
            "- R2 Score: 0.9513\n",
            "===================================\n",
            "\n",
            "\n",
            "XGBRegressor\n",
            "Model performance for Training set\n",
            "- Root Mean Squared Error: 5233.1745\n",
            "- Mean Absolute Error: 2164.0033\n",
            "- R2 Score: 0.9930\n",
            "----------------------------------\n",
            "Model performance for Test set\n",
            "- Root Mean Squared Error: 10542.8669\n",
            "- Mean Absolute Error: 4135.6176\n",
            "- R2 Score: 0.9534\n",
            "===================================\n",
            "\n",
            "\n",
            "CatBoosting Regressor\n",
            "Model performance for Training set\n",
            "- Root Mean Squared Error: 6042.9045\n",
            "- Mean Absolute Error: 3115.9375\n",
            "- R2 Score: 0.9907\n",
            "----------------------------------\n",
            "Model performance for Test set\n",
            "- Root Mean Squared Error: 11303.4333\n",
            "- Mean Absolute Error: 4370.0289\n",
            "- R2 Score: 0.9464\n",
            "===================================\n",
            "\n",
            "\n",
            "AdaBoost Regressor\n",
            "Model performance for Training set\n",
            "- Root Mean Squared Error: 24649.4616\n",
            "- Mean Absolute Error: 15770.7790\n",
            "- R2 Score: 0.8450\n",
            "----------------------------------\n",
            "Model performance for Test set\n",
            "- Root Mean Squared Error: 25458.7073\n",
            "- Mean Absolute Error: 15975.7167\n",
            "- R2 Score: 0.7281\n",
            "===================================\n",
            "\n",
            "\n"
          ]
        }
      ],
      "source": [
        "def evaluate_model(true, predicted):\n",
        "    mae = mean_absolute_error(true, predicted)\n",
        "    mse = mean_squared_error(true, predicted)\n",
        "    rmse = np.sqrt(mean_squared_error(true, predicted))\n",
        "    r2_square = r2_score(true, predicted)\n",
        "    return mae, rmse, r2_square\n",
        "    \n",
        "models = {\n",
        "    \"Linear Regression\": LinearRegression(),\n",
        "    \"Lasso\": Lasso(),\n",
        "    \"Ridge\": Ridge(),\n",
        "    \"K-Neighbors Regressor\": KNeighborsRegressor(),\n",
        "    \"Decision Tree\": DecisionTreeRegressor(),\n",
        "    \"Random Forest Regressor\": RandomForestRegressor(),\n",
        "    \"XGBRegressor\": XGBRegressor(), \n",
        "    \"CatBoosting Regressor\": CatBoostRegressor(verbose=False),\n",
        "    \"AdaBoost Regressor\": AdaBoostRegressor()\n",
        "}\n",
        "model_list = []\n",
        "r2_list =[]\n",
        "\n",
        "for i in range(len(list(models))):\n",
        "    model = list(models.values())[i]\n",
        "    model.fit(X_train, y_train) # Train model\n",
        "\n",
        "    # Make predictions\n",
        "    y_train_pred = model.predict(X_train)\n",
        "    y_test_pred = model.predict(X_test)\n",
        "    \n",
        "    # Evaluate Train and Test dataset\n",
        "    model_train_mae , model_train_rmse, model_train_r2 = evaluate_model(y_train, y_train_pred)\n",
        "\n",
        "    model_test_mae , model_test_rmse, model_test_r2 = evaluate_model(y_test, y_test_pred)\n",
        "\n",
        "    \n",
        "    print(list(models.keys())[i])\n",
        "    model_list.append(list(models.keys())[i])\n",
        "    \n",
        "    print('Model performance for Training set')\n",
        "    print(\"- Root Mean Squared Error: {:.4f}\".format(model_train_rmse))\n",
        "    print(\"- Mean Absolute Error: {:.4f}\".format(model_train_mae))\n",
        "    print(\"- R2 Score: {:.4f}\".format(model_train_r2))\n",
        "\n",
        "    print('----------------------------------')\n",
        "    \n",
        "    print('Model performance for Test set')\n",
        "    print(\"- Root Mean Squared Error: {:.4f}\".format(model_test_rmse))\n",
        "    print(\"- Mean Absolute Error: {:.4f}\".format(model_test_mae))\n",
        "    print(\"- R2 Score: {:.4f}\".format(model_test_r2))\n",
        "    r2_list.append(model_test_r2)\n",
        "    \n",
        "    print('='*35)\n",
        "    print('\\n')"
      ]
    },
    {
      "cell_type": "markdown",
      "id": "56ebed1a",
      "metadata": {},
      "source": [
        "## Model Assessment"
      ]
    },
    {
      "cell_type": "code",
      "execution_count": 156,
      "id": "f882d18e",
      "metadata": {},
      "outputs": [
        {
          "data": {
            "text/html": [
              "<div>\n",
              "<style scoped>\n",
              "    .dataframe tbody tr th:only-of-type {\n",
              "        vertical-align: middle;\n",
              "    }\n",
              "\n",
              "    .dataframe tbody tr th {\n",
              "        vertical-align: top;\n",
              "    }\n",
              "\n",
              "    .dataframe thead th {\n",
              "        text-align: right;\n",
              "    }\n",
              "</style>\n",
              "<table border=\"1\" class=\"dataframe\">\n",
              "  <thead>\n",
              "    <tr style=\"text-align: right;\">\n",
              "      <th></th>\n",
              "      <th>Model Name</th>\n",
              "      <th>R2_Score</th>\n",
              "    </tr>\n",
              "  </thead>\n",
              "  <tbody>\n",
              "    <tr>\n",
              "      <th>6</th>\n",
              "      <td>XGBRegressor</td>\n",
              "      <td>0.953367</td>\n",
              "    </tr>\n",
              "    <tr>\n",
              "      <th>5</th>\n",
              "      <td>Random Forest Regressor</td>\n",
              "      <td>0.951337</td>\n",
              "    </tr>\n",
              "    <tr>\n",
              "      <th>7</th>\n",
              "      <td>CatBoosting Regressor</td>\n",
              "      <td>0.946397</td>\n",
              "    </tr>\n",
              "    <tr>\n",
              "      <th>3</th>\n",
              "      <td>K-Neighbors Regressor</td>\n",
              "      <td>0.922103</td>\n",
              "    </tr>\n",
              "    <tr>\n",
              "      <th>4</th>\n",
              "      <td>Decision Tree</td>\n",
              "      <td>0.915134</td>\n",
              "    </tr>\n",
              "    <tr>\n",
              "      <th>1</th>\n",
              "      <td>Lasso</td>\n",
              "      <td>0.799241</td>\n",
              "    </tr>\n",
              "    <tr>\n",
              "      <th>2</th>\n",
              "      <td>Ridge</td>\n",
              "      <td>0.799240</td>\n",
              "    </tr>\n",
              "    <tr>\n",
              "      <th>0</th>\n",
              "      <td>Linear Regression</td>\n",
              "      <td>0.799239</td>\n",
              "    </tr>\n",
              "    <tr>\n",
              "      <th>8</th>\n",
              "      <td>AdaBoost Regressor</td>\n",
              "      <td>0.728078</td>\n",
              "    </tr>\n",
              "  </tbody>\n",
              "</table>\n",
              "</div>"
            ],
            "text/plain": [
              "                Model Name  R2_Score\n",
              "6             XGBRegressor  0.953367\n",
              "5  Random Forest Regressor  0.951337\n",
              "7    CatBoosting Regressor  0.946397\n",
              "3    K-Neighbors Regressor  0.922103\n",
              "4            Decision Tree  0.915134\n",
              "1                    Lasso  0.799241\n",
              "2                    Ridge  0.799240\n",
              "0        Linear Regression  0.799239\n",
              "8       AdaBoost Regressor  0.728078"
            ]
          },
          "execution_count": 156,
          "metadata": {},
          "output_type": "execute_result"
        }
      ],
      "source": [
        "pd.DataFrame(list(zip(model_list, r2_list)), columns=['Model Name', 'R2_Score']).sort_values(by=[\"R2_Score\"],ascending=False)"
      ]
    },
    {
      "cell_type": "markdown",
      "id": "1410579a",
      "metadata": {
        "id": "1410579a"
      },
      "source": [
        "#### Algorithm Selection And Hyperparameter Tunning"
      ]
    },
    {
      "cell_type": "code",
      "execution_count": 157,
      "id": "1417d760",
      "metadata": {
        "colab": {
          "base_uri": "https://localhost:8080/"
        },
        "id": "1417d760",
        "outputId": "7276c8ed-f33e-421f-a8d1-1df5ef3b69f9"
      },
      "outputs": [
        {
          "name": "stdout",
          "output_type": "stream",
          "text": [
            "r2 Score of KNeighborsRegressor = 0.90\n",
            "Best found Hyperparameter of KNeighborsRegressor = {'leaf_size': 2, 'n_neighbors': 5, 'p': 2, 'weights': 'distance'}\n"
          ]
        }
      ],
      "source": [
        "parameter_grids = {'n_neighbors' : np.arange(5,20,5),\n",
        "                   'weights': ['uniform', 'distance'],\n",
        "                  'leaf_size' : np.arange(2,20,2),\n",
        "                   'p' : [1,2]}\n",
        "\n",
        "model_1 = GridSearchCV(KNeighborsRegressor(),\n",
        "                      param_grid=parameter_grids,\n",
        "                      scoring='r2',\n",
        "                      cv=5,\n",
        "                      error_score='raise',\n",
        "                      n_jobs=-1)\n",
        "\n",
        "model_1.fit(X_train,y_train)\n",
        "\n",
        "print('r2 Score of KNeighborsRegressor = {:.2f}'.format(model_1.best_score_))\n",
        "print('Best found Hyperparameter of KNeighborsRegressor = {}'.format(model_1.best_params_))"
      ]
    },
    {
      "cell_type": "code",
      "execution_count": 158,
      "id": "2a51d07b",
      "metadata": {
        "colab": {
          "base_uri": "https://localhost:8080/"
        },
        "id": "2a51d07b",
        "outputId": "feca90c6-ff5b-4dba-ce64-d85b2bd6149a"
      },
      "outputs": [
        {
          "name": "stdout",
          "output_type": "stream",
          "text": [
            "r2 Score of DecisionTreeRegressor = 0.81\n",
            "Best found Hyperparameter of DecisionTreeRegressor = {'min_samples_split': 8, 'max_features': 0.25, 'max_depth': 28, 'criterion': 'poisson'}\n"
          ]
        }
      ],
      "source": [
        "parameter_grids = {'criterion': ['squared_error', 'friedman_mse', 'absolute_error','poisson'],\n",
        "                  'max_depth' : range(1,30,3), #[1,4,7...]\n",
        "                  'max_features':[0.25,0.5,0.75,1.0],\n",
        "                  'min_samples_split' : range(2,20,3)}\n",
        "\n",
        "model_2 = RandomizedSearchCV(DecisionTreeRegressor(random_state=42),\n",
        "                      param_distributions= parameter_grids,\n",
        "                      n_iter= 10,\n",
        "                      scoring='r2',\n",
        "                      error_score='raise',\n",
        "                      cv=5,\n",
        "                      n_jobs=-1)\n",
        "\n",
        "model_2.fit(X_train,y_train)\n",
        "\n",
        "print('r2 Score of DecisionTreeRegressor = {:.2f}'.format(model_2.best_score_))\n",
        "print('Best found Hyperparameter of DecisionTreeRegressor = {}'.format(model_2.best_params_))"
      ]
    },
    {
      "cell_type": "code",
      "execution_count": 159,
      "id": "d8138ee6",
      "metadata": {
        "colab": {
          "base_uri": "https://localhost:8080/"
        },
        "id": "d8138ee6",
        "outputId": "edc126d4-dd90-4561-b8ed-baf146568c5f"
      },
      "outputs": [
        {
          "name": "stdout",
          "output_type": "stream",
          "text": [
            "r2 Score of SVM = 0.72\n",
            "Best found Hyperparameter of SVM = {'C': 20, 'kernel': 'linear'}\n"
          ]
        }
      ],
      "source": [
        "parameter_grids = {'kernel' : ['linear', 'poly', 'rbf', 'sigmoid'],\n",
        "                   'C' : [0.01, 0.1, 10, 20]\n",
        "                   }\n",
        "\n",
        "model_3 = GridSearchCV(SVR(),\n",
        "                      param_grid=parameter_grids,\n",
        "                      scoring='r2',\n",
        "                      error_score='raise',\n",
        "                      cv=5,\n",
        "                      n_jobs=-1)\n",
        "\n",
        "model_3.fit(X_train,y_train)\n",
        "\n",
        "print('r2 Score of SVM = {:.2f}'.format(model_3.best_score_))\n",
        "print('Best found Hyperparameter of SVM = {}'.format(model_3.best_params_))"
      ]
    },
    {
      "cell_type": "code",
      "execution_count": 160,
      "id": "39ba2d06",
      "metadata": {},
      "outputs": [
        {
          "name": "stdout",
          "output_type": "stream",
          "text": [
            "r2 Score of AdaBoostRegressor = 0.70\n",
            "Best found Hyperparameter of AdaBoostRegressor = {'loss': 'square', 'n_estimators': 100}\n"
          ]
        }
      ],
      "source": [
        "parameter_grids = {'n_estimators' : range(100,150,50),\n",
        "                   'loss': ['linear', 'square', 'exponential']\n",
        "                   }\n",
        "\n",
        "model_4 = GridSearchCV(AdaBoostRegressor(random_state=42),\n",
        "                      param_grid=parameter_grids,\n",
        "                      scoring='r2',\n",
        "                      error_score='raise',\n",
        "                      cv=5,\n",
        "                      n_jobs=-1)\n",
        "\n",
        "model_4.fit(X_train,y_train)\n",
        "\n",
        "print('r2 Score of AdaBoostRegressor = {:.2f}'.format(model_4.best_score_))\n",
        "print('Best found Hyperparameter of AdaBoostRegressor = {}'.format(model_4.best_params_))"
      ]
    },
    {
      "cell_type": "code",
      "execution_count": 161,
      "id": "62e85f9f",
      "metadata": {},
      "outputs": [
        {
          "name": "stdout",
          "output_type": "stream",
          "text": [
            "r2 Score of RandomForestRegressor = 0.89\n",
            "Best found Hyperparameter of RandomForestRegressor = {'n_estimators': 150, 'min_samples_split': 2, 'max_features': 0.5, 'max_depth': 14, 'criterion': 'poisson'}\n"
          ]
        }
      ],
      "source": [
        "parameter_grids = {'n_estimators' : range(100,200,50),\n",
        "                   'criterion': ['squared_error', 'friedman_mse', 'absolute_error','poisson'],\n",
        "                  'max_depth' : range(2,20,3), \n",
        "                  'max_features':[0.5,0.75,1.0],\n",
        "                  'min_samples_split' : range(2,10,3)}\n",
        "\n",
        "model_5 = RandomizedSearchCV(RandomForestRegressor(random_state=42, n_jobs=-1),\n",
        "                      param_distributions= parameter_grids,\n",
        "                      n_iter= 5,\n",
        "                      scoring='r2',\n",
        "                      error_score='raise',\n",
        "                      cv=5,\n",
        "                      n_jobs=-1)\n",
        "\n",
        "model_5.fit(X_train,y_train)\n",
        "\n",
        "print('r2 Score of RandomForestRegressor = {:.2f}'.format(model_5.best_score_))\n",
        "print('Best found Hyperparameter of RandomForestRegressor = {}'.format(model_5.best_params_))"
      ]
    },
    {
      "cell_type": "markdown",
      "id": "3317218e",
      "metadata": {},
      "source": [
        "##  Model Evalution"
      ]
    },
    {
      "cell_type": "code",
      "execution_count": 162,
      "id": "f4c7d6ba",
      "metadata": {},
      "outputs": [
        {
          "name": "stdout",
          "output_type": "stream",
          "text": [
            "\\Random Forest Regressor R2_Score on Test:  95.10575668131328 %\n"
          ]
        }
      ],
      "source": [
        "y_predict= model_5.predict(X_test)\n",
        "print('\\Random Forest Regressor R2_Score on Test: ',r2_score(y_test, y_predict)*100,'%')"
      ]
    },
    {
      "cell_type": "code",
      "execution_count": 163,
      "id": "74710723",
      "metadata": {},
      "outputs": [
        {
          "data": {
            "image/png": "[encoded data removed]",
            "text/plain": [
              "<Figure size 640x480 with 1 Axes>"
            ]
          },
          "metadata": {},
          "output_type": "display_data"
        }
      ],
      "source": [
        "plt.scatter(y_test,y_predict);\n",
        "plt.xlabel('Actual');\n",
        "plt.ylabel('Predicted');"
      ]
    },
    {
      "cell_type": "code",
      "execution_count": 164,
      "id": "f531b39c",
      "metadata": {},
      "outputs": [
        {
          "data": {
            "image/png": "[encoded data removed]",
            "text/plain": [
              "<Figure size 640x480 with 1 Axes>"
            ]
          },
          "metadata": {},
          "output_type": "display_data"
        }
      ],
      "source": [
        "sns.regplot(x=y_test,y=y_predict,ci=None,color ='red');"
      ]
    },
    {
      "cell_type": "markdown",
      "id": "099baa10",
      "metadata": {},
      "source": [
        "Difference between Actual and Predicted Values"
      ]
    },
    {
      "cell_type": "code",
      "execution_count": 165,
      "id": "3bbccbd3",
      "metadata": {},
      "outputs": [
        {
          "data": {
            "text/html": [
              "<div>\n",
              "<style scoped>\n",
              "    .dataframe tbody tr th:only-of-type {\n",
              "        vertical-align: middle;\n",
              "    }\n",
              "\n",
              "    .dataframe tbody tr th {\n",
              "        vertical-align: top;\n",
              "    }\n",
              "\n",
              "    .dataframe thead th {\n",
              "        text-align: right;\n",
              "    }\n",
              "</style>\n",
              "<table border=\"1\" class=\"dataframe\">\n",
              "  <thead>\n",
              "    <tr style=\"text-align: right;\">\n",
              "      <th></th>\n",
              "      <th>Actual Value</th>\n",
              "      <th>Predicted Value</th>\n",
              "      <th>Difference</th>\n",
              "    </tr>\n",
              "  </thead>\n",
              "  <tbody>\n",
              "    <tr>\n",
              "      <th>3995</th>\n",
              "      <td>29695</td>\n",
              "      <td>32373</td>\n",
              "      <td>-2678</td>\n",
              "    </tr>\n",
              "    <tr>\n",
              "      <th>7474</th>\n",
              "      <td>30495</td>\n",
              "      <td>26021</td>\n",
              "      <td>4473</td>\n",
              "    </tr>\n",
              "    <tr>\n",
              "      <th>7300</th>\n",
              "      <td>37650</td>\n",
              "      <td>35937</td>\n",
              "      <td>1712</td>\n",
              "    </tr>\n",
              "    <tr>\n",
              "      <th>3148</th>\n",
              "      <td>16170</td>\n",
              "      <td>18728</td>\n",
              "      <td>-2558</td>\n",
              "    </tr>\n",
              "    <tr>\n",
              "      <th>747</th>\n",
              "      <td>2000</td>\n",
              "      <td>2488</td>\n",
              "      <td>-488</td>\n",
              "    </tr>\n",
              "    <tr>\n",
              "      <th>...</th>\n",
              "      <td>...</td>\n",
              "      <td>...</td>\n",
              "      <td>...</td>\n",
              "    </tr>\n",
              "    <tr>\n",
              "      <th>267</th>\n",
              "      <td>35550</td>\n",
              "      <td>37419</td>\n",
              "      <td>-1869</td>\n",
              "    </tr>\n",
              "    <tr>\n",
              "      <th>4320</th>\n",
              "      <td>48360</td>\n",
              "      <td>60558</td>\n",
              "      <td>-12198</td>\n",
              "    </tr>\n",
              "    <tr>\n",
              "      <th>5799</th>\n",
              "      <td>31750</td>\n",
              "      <td>27241</td>\n",
              "      <td>4508</td>\n",
              "    </tr>\n",
              "    <tr>\n",
              "      <th>6080</th>\n",
              "      <td>20995</td>\n",
              "      <td>23043</td>\n",
              "      <td>-2048</td>\n",
              "    </tr>\n",
              "    <tr>\n",
              "      <th>11511</th>\n",
              "      <td>57700</td>\n",
              "      <td>53947</td>\n",
              "      <td>3752</td>\n",
              "    </tr>\n",
              "  </tbody>\n",
              "</table>\n",
              "<p>2383 rows × 3 columns</p>\n",
              "</div>"
            ],
            "text/plain": [
              "       Actual Value  Predicted Value  Difference\n",
              "3995          29695            32373       -2678\n",
              "7474          30495            26021        4473\n",
              "7300          37650            35937        1712\n",
              "3148          16170            18728       -2558\n",
              "747            2000             2488        -488\n",
              "...             ...              ...         ...\n",
              "267           35550            37419       -1869\n",
              "4320          48360            60558      -12198\n",
              "5799          31750            27241        4508\n",
              "6080          20995            23043       -2048\n",
              "11511         57700            53947        3752\n",
              "\n",
              "[2383 rows x 3 columns]"
            ]
          },
          "execution_count": 165,
          "metadata": {},
          "output_type": "execute_result"
        }
      ],
      "source": [
        "predicated_df = pd.DataFrame({'Actual Value':y_test, 'Predicted Value':y_predict, 'Difference':y_test-y_predict}).astype(int)\n",
        "predicated_df"
      ]
    }
  ],
  "metadata": {
    "colab": {
      "provenance": []
    },
    "kernelspec": {
      "display_name": "Python 3 (ipykernel)",
      "language": "python",
      "name": "python3"
    },
    "language_info": {
      "codemirror_mode": {
        "name": "ipython",
        "version": 3
      },
      "file_extension": ".py",
      "mimetype": "text/x-python",
      "name": "python",
      "nbconvert_exporter": "python",
      "pygments_lexer": "ipython3",
      "version": "3.10.14"
    }
  },
  "nbformat": 4,
  "nbformat_minor": 5
}
