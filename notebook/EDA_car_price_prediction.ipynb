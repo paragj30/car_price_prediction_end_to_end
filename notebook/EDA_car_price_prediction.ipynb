{
  "cells": [
    {
      "cell_type": "markdown",
      "id": "62d7d0ca",
      "metadata": {
        "id": "62d7d0ca"
      },
      "source": [
        "# 0. Import all libraries"
      ]
    },
    {
      "cell_type": "code",
      "execution_count": 68,
      "id": "62bc0e8d",
      "metadata": {
        "id": "62bc0e8d"
      },
      "outputs": [],
      "source": [
        "import os\n",
        "\n",
        "import pandas as pd\n",
        "import numpy as np\n",
        "from scipy.stats import normaltest,shapiro\n",
        "import seaborn as sns\n",
        "import matplotlib.pyplot as plt\n",
        "%matplotlib inline"
      ]
    },
    {
      "cell_type": "markdown",
      "id": "078352ad",
      "metadata": {
        "id": "078352ad"
      },
      "source": [
        "Here, we have loaded 2 types of Libraries\n",
        "\n",
        "a) Inbuilt Library\n",
        "\n",
        "\n",
        "b) Third-Party Library"
      ]
    },
    {
      "cell_type": "markdown",
      "id": "e180141f",
      "metadata": {
        "id": "e180141f"
      },
      "source": [
        "# 1. Data Collection"
      ]
    },
    {
      "cell_type": "markdown",
      "id": "bb1b1c39",
      "metadata": {
        "id": "bb1b1c39"
      },
      "source": [
        "According to client inputs, our domain experts and data analysts team created the dataset in.CSV format."
      ]
    },
    {
      "cell_type": "code",
      "execution_count": 69,
      "id": "23b59d14",
      "metadata": {
        "colab": {
          "base_uri": "https://localhost:8080/",
          "height": 354
        },
        "id": "23b59d14",
        "outputId": "6bd7cf34-e2a0-46ef-dd1a-42d12ccf1192"
      },
      "outputs": [
        {
          "data": {
            "text/html": [
              "<div>\n",
              "<style scoped>\n",
              "    .dataframe tbody tr th:only-of-type {\n",
              "        vertical-align: middle;\n",
              "    }\n",
              "\n",
              "    .dataframe tbody tr th {\n",
              "        vertical-align: top;\n",
              "    }\n",
              "\n",
              "    .dataframe thead th {\n",
              "        text-align: right;\n",
              "    }\n",
              "</style>\n",
              "<table border=\"1\" class=\"dataframe\">\n",
              "  <thead>\n",
              "    <tr style=\"text-align: right;\">\n",
              "      <th></th>\n",
              "      <th>Make</th>\n",
              "      <th>Model</th>\n",
              "      <th>Year</th>\n",
              "      <th>Engine Fuel Type</th>\n",
              "      <th>Engine HP</th>\n",
              "      <th>Engine Cylinders</th>\n",
              "      <th>Transmission Type</th>\n",
              "      <th>Driven_Wheels</th>\n",
              "      <th>Number of Doors</th>\n",
              "      <th>Market Category</th>\n",
              "      <th>Vehicle Size</th>\n",
              "      <th>Vehicle Style</th>\n",
              "      <th>highway MPG</th>\n",
              "      <th>city mpg</th>\n",
              "      <th>Popularity</th>\n",
              "      <th>MSRP</th>\n",
              "    </tr>\n",
              "  </thead>\n",
              "  <tbody>\n",
              "    <tr>\n",
              "      <th>0</th>\n",
              "      <td>BMW</td>\n",
              "      <td>1 Series M</td>\n",
              "      <td>2011</td>\n",
              "      <td>premium unleaded (required)</td>\n",
              "      <td>335.0</td>\n",
              "      <td>6.0</td>\n",
              "      <td>MANUAL</td>\n",
              "      <td>rear wheel drive</td>\n",
              "      <td>2.0</td>\n",
              "      <td>Factory Tuner,Luxury,High-Performance</td>\n",
              "      <td>Compact</td>\n",
              "      <td>Coupe</td>\n",
              "      <td>26</td>\n",
              "      <td>19</td>\n",
              "      <td>3916</td>\n",
              "      <td>46135</td>\n",
              "    </tr>\n",
              "    <tr>\n",
              "      <th>1</th>\n",
              "      <td>BMW</td>\n",
              "      <td>1 Series</td>\n",
              "      <td>2011</td>\n",
              "      <td>premium unleaded (required)</td>\n",
              "      <td>300.0</td>\n",
              "      <td>6.0</td>\n",
              "      <td>MANUAL</td>\n",
              "      <td>rear wheel drive</td>\n",
              "      <td>2.0</td>\n",
              "      <td>Luxury,Performance</td>\n",
              "      <td>Compact</td>\n",
              "      <td>Convertible</td>\n",
              "      <td>28</td>\n",
              "      <td>19</td>\n",
              "      <td>3916</td>\n",
              "      <td>40650</td>\n",
              "    </tr>\n",
              "    <tr>\n",
              "      <th>2</th>\n",
              "      <td>BMW</td>\n",
              "      <td>1 Series</td>\n",
              "      <td>2011</td>\n",
              "      <td>premium unleaded (required)</td>\n",
              "      <td>300.0</td>\n",
              "      <td>6.0</td>\n",
              "      <td>MANUAL</td>\n",
              "      <td>rear wheel drive</td>\n",
              "      <td>2.0</td>\n",
              "      <td>Luxury,High-Performance</td>\n",
              "      <td>Compact</td>\n",
              "      <td>Coupe</td>\n",
              "      <td>28</td>\n",
              "      <td>20</td>\n",
              "      <td>3916</td>\n",
              "      <td>36350</td>\n",
              "    </tr>\n",
              "    <tr>\n",
              "      <th>3</th>\n",
              "      <td>BMW</td>\n",
              "      <td>1 Series</td>\n",
              "      <td>2011</td>\n",
              "      <td>premium unleaded (required)</td>\n",
              "      <td>230.0</td>\n",
              "      <td>6.0</td>\n",
              "      <td>MANUAL</td>\n",
              "      <td>rear wheel drive</td>\n",
              "      <td>2.0</td>\n",
              "      <td>Luxury,Performance</td>\n",
              "      <td>Compact</td>\n",
              "      <td>Coupe</td>\n",
              "      <td>28</td>\n",
              "      <td>18</td>\n",
              "      <td>3916</td>\n",
              "      <td>29450</td>\n",
              "    </tr>\n",
              "    <tr>\n",
              "      <th>4</th>\n",
              "      <td>BMW</td>\n",
              "      <td>1 Series</td>\n",
              "      <td>2011</td>\n",
              "      <td>premium unleaded (required)</td>\n",
              "      <td>230.0</td>\n",
              "      <td>6.0</td>\n",
              "      <td>MANUAL</td>\n",
              "      <td>rear wheel drive</td>\n",
              "      <td>2.0</td>\n",
              "      <td>Luxury</td>\n",
              "      <td>Compact</td>\n",
              "      <td>Convertible</td>\n",
              "      <td>28</td>\n",
              "      <td>18</td>\n",
              "      <td>3916</td>\n",
              "      <td>34500</td>\n",
              "    </tr>\n",
              "  </tbody>\n",
              "</table>\n",
              "</div>"
            ],
            "text/plain": [
              "  Make       Model  Year             Engine Fuel Type  Engine HP  \\\n",
              "0  BMW  1 Series M  2011  premium unleaded (required)      335.0   \n",
              "1  BMW    1 Series  2011  premium unleaded (required)      300.0   \n",
              "2  BMW    1 Series  2011  premium unleaded (required)      300.0   \n",
              "3  BMW    1 Series  2011  premium unleaded (required)      230.0   \n",
              "4  BMW    1 Series  2011  premium unleaded (required)      230.0   \n",
              "\n",
              "   Engine Cylinders Transmission Type     Driven_Wheels  Number of Doors  \\\n",
              "0               6.0            MANUAL  rear wheel drive              2.0   \n",
              "1               6.0            MANUAL  rear wheel drive              2.0   \n",
              "2               6.0            MANUAL  rear wheel drive              2.0   \n",
              "3               6.0            MANUAL  rear wheel drive              2.0   \n",
              "4               6.0            MANUAL  rear wheel drive              2.0   \n",
              "\n",
              "                         Market Category Vehicle Size Vehicle Style  \\\n",
              "0  Factory Tuner,Luxury,High-Performance      Compact         Coupe   \n",
              "1                     Luxury,Performance      Compact   Convertible   \n",
              "2                Luxury,High-Performance      Compact         Coupe   \n",
              "3                     Luxury,Performance      Compact         Coupe   \n",
              "4                                 Luxury      Compact   Convertible   \n",
              "\n",
              "   highway MPG  city mpg  Popularity   MSRP  \n",
              "0           26        19        3916  46135  \n",
              "1           28        19        3916  40650  \n",
              "2           28        20        3916  36350  \n",
              "3           28        18        3916  29450  \n",
              "4           28        18        3916  34500  "
            ]
          },
          "execution_count": 69,
          "metadata": {},
          "output_type": "execute_result"
        }
      ],
      "source": [
        "df= pd.read_csv('data/Cars_data.csv')\n",
        "df.head()"
      ]
    },
    {
      "cell_type": "markdown",
      "id": "297548cc",
      "metadata": {
        "id": "297548cc"
      },
      "source": [
        "Load the dataset files with csv extension from the dataset folder."
      ]
    },
    {
      "cell_type": "code",
      "execution_count": 70,
      "id": "21fa0632",
      "metadata": {
        "colab": {
          "base_uri": "https://localhost:8080/"
        },
        "id": "21fa0632",
        "outputId": "eeea7e8f-7a9d-4901-cc09-a0c2ecc2fd93"
      },
      "outputs": [
        {
          "name": "stdout",
          "output_type": "stream",
          "text": [
            "No. of Rows:  11914\n",
            "No. of Columns:  16\n"
          ]
        }
      ],
      "source": [
        "print('No. of Rows: ',df.shape[0])\n",
        "print('No. of Columns: ',df.shape[1])"
      ]
    },
    {
      "cell_type": "markdown",
      "id": "e056bde3",
      "metadata": {},
      "source": [
        "\n",
        "# 2. Dataset Information.<br>\n",
        "\n",
        " `Make:` The Make feature is the brand name of the Car.<br>\n",
        "`Model:` The Model feature is the brand of model or different version of Car models.<br>\n",
        "`Year:`  The year describes the year of launched.<br>\n",
        "`Engine Fuel Type:` It defines the Fuel type of the car model.<br>\n",
        "`Engine HP:` Engine HP means Horsepower that refers to the power an engine produces.<br>\n",
        "`Engine Cylinders:` Engine Cylinders are number of cylinders in present in the engine.<br>\n",
        "`Transmission Type:` It is the type of feature that describe about the car transmission type i.e Mannual or automatic.<br>\n",
        "`Driven_Wheels:` The type of wheel drive.<br>\n",
        "`No of doors:` It defined nos of doors present in the car.<br>\n",
        "`Market Category:` This features tells about the type of car or which category the car belongs. <br>\n",
        "`Vehicle Size:` It's say about the about car size.<br>\n",
        "`Vehicle Style:` The feature is all about the style that belongs to car.<br>\n",
        "`highway MPG:` The average a car will get while driving on an open stretch of road without stopping or starting, typically at a higher speed.<br>\n",
        "`city mpg:` City MPG refers to driving with occasional stopping and braking.<br>\n",
        "`Popularity:` It can refered to rating of that car or popularity of car.<br>\n",
        "`MSRP:` The price of that car."
      ]
    },
    {
      "cell_type": "markdown",
      "id": "a0a0e309",
      "metadata": {},
      "source": [
        "# 3. Data checks to perform\n",
        "\n",
        "•\tCheck for missing values.\n",
        "\n",
        "•\tCheck for duplicates.\n",
        "\n",
        "•\tCheck the data type.\n",
        "\n",
        "•\tCheck the number of unique values in each column.\n",
        "\n",
        "•\tCheck the statistics of the dataset.\n",
        "\n",
        "•\tCheck the various categories present in the different categorical categories."
      ]
    },
    {
      "cell_type": "markdown",
      "id": "f14e2cfd",
      "metadata": {},
      "source": [
        "## 3.0 Check Data types"
      ]
    },
    {
      "cell_type": "code",
      "execution_count": 71,
      "id": "9f548fda",
      "metadata": {
        "colab": {
          "base_uri": "https://localhost:8080/"
        },
        "id": "9f548fda",
        "outputId": "8f002f66-e7ac-41d0-bb24-3f1e1dfcd832"
      },
      "outputs": [
        {
          "name": "stdout",
          "output_type": "stream",
          "text": [
            "<class 'pandas.core.frame.DataFrame'>\n",
            "RangeIndex: 11914 entries, 0 to 11913\n",
            "Data columns (total 16 columns):\n",
            " #   Column             Non-Null Count  Dtype  \n",
            "---  ------             --------------  -----  \n",
            " 0   Make               11914 non-null  object \n",
            " 1   Model              11914 non-null  object \n",
            " 2   Year               11914 non-null  int64  \n",
            " 3   Engine Fuel Type   11911 non-null  object \n",
            " 4   Engine HP          11845 non-null  float64\n",
            " 5   Engine Cylinders   11884 non-null  float64\n",
            " 6   Transmission Type  11914 non-null  object \n",
            " 7   Driven_Wheels      11914 non-null  object \n",
            " 8   Number of Doors    11908 non-null  float64\n",
            " 9   Market Category    8172 non-null   object \n",
            " 10  Vehicle Size       11914 non-null  object \n",
            " 11  Vehicle Style      11914 non-null  object \n",
            " 12  highway MPG        11914 non-null  int64  \n",
            " 13  city mpg           11914 non-null  int64  \n",
            " 14  Popularity         11914 non-null  int64  \n",
            " 15  MSRP               11914 non-null  int64  \n",
            "dtypes: float64(3), int64(5), object(8)\n",
            "memory usage: 1.5+ MB\n"
          ]
        }
      ],
      "source": [
        "df.info()"
      ]
    },
    {
      "cell_type": "markdown",
      "id": "f3f526bc",
      "metadata": {
        "id": "f3f526bc"
      },
      "source": [
        "df.info() >> This gives us information about the attributes, data type of the attribute, information about the null values of the attributes, memory size of the class which is 1.5+ MB."
      ]
    },
    {
      "cell_type": "code",
      "execution_count": 72,
      "id": "c7b84117",
      "metadata": {},
      "outputs": [
        {
          "data": {
            "text/plain": [
              "Make                  object\n",
              "Model                 object\n",
              "Year                   int64\n",
              "Engine Fuel Type      object\n",
              "Engine HP            float64\n",
              "Engine Cylinders     float64\n",
              "Transmission Type     object\n",
              "Driven_Wheels         object\n",
              "Number of Doors      float64\n",
              "Market Category       object\n",
              "Vehicle Size          object\n",
              "Vehicle Style         object\n",
              "highway MPG            int64\n",
              "city mpg               int64\n",
              "Popularity             int64\n",
              "MSRP                   int64\n",
              "dtype: object"
            ]
          },
          "execution_count": 72,
          "metadata": {},
          "output_type": "execute_result"
        }
      ],
      "source": [
        "df.dtypes"
      ]
    },
    {
      "cell_type": "markdown",
      "id": "019de56d",
      "metadata": {},
      "source": [
        "Our objective is to transform every category feature (Object) into a numerical feature (int)."
      ]
    },
    {
      "cell_type": "markdown",
      "id": "92a806dc",
      "metadata": {},
      "source": [
        "## 3.1 Check Null Values"
      ]
    },
    {
      "cell_type": "markdown",
      "id": "f2b5ea16",
      "metadata": {
        "id": "f2b5ea16"
      },
      "source": [
        "Here, We will try to find out the Explicit and Implicit Missing values in our Dataset."
      ]
    },
    {
      "cell_type": "code",
      "execution_count": 73,
      "id": "e89ca2dd",
      "metadata": {
        "colab": {
          "base_uri": "https://localhost:8080/"
        },
        "id": "e89ca2dd",
        "outputId": "45ee91a5-546f-46ac-9511-4d0fc120e36b"
      },
      "outputs": [
        {
          "data": {
            "text/plain": [
              "Make                    0\n",
              "Model                   0\n",
              "Year                    0\n",
              "Engine Fuel Type        3\n",
              "Engine HP              69\n",
              "Engine Cylinders       30\n",
              "Transmission Type       0\n",
              "Driven_Wheels           0\n",
              "Number of Doors         6\n",
              "Market Category      3742\n",
              "Vehicle Size            0\n",
              "Vehicle Style           0\n",
              "highway MPG             0\n",
              "city mpg                0\n",
              "Popularity              0\n",
              "MSRP                    0\n",
              "dtype: int64"
            ]
          },
          "execution_count": 73,
          "metadata": {},
          "output_type": "execute_result"
        }
      ],
      "source": [
        "df.isna().sum()"
      ]
    },
    {
      "cell_type": "markdown",
      "id": "c62190a6",
      "metadata": {},
      "source": [
        "Missing Value Ratio Method"
      ]
    },
    {
      "cell_type": "code",
      "execution_count": 110,
      "id": "a19a9c8f",
      "metadata": {},
      "outputs": [
        {
          "data": {
            "text/plain": [
              "Market Category      30.145549\n",
              "Engine HP             0.616126\n",
              "Engine Cylinders      0.267881\n",
              "Number of Doors       0.053576\n",
              "Engine Fuel Type      0.026788\n",
              "Make                  0.000000\n",
              "Model                 0.000000\n",
              "Year                  0.000000\n",
              "Transmission Type     0.000000\n",
              "Driven_Wheels         0.000000\n",
              "Vehicle Size          0.000000\n",
              "Vehicle Style         0.000000\n",
              "highway MPG           0.000000\n",
              "city mpg              0.000000\n",
              "Popularity            0.000000\n",
              "MSRP                  0.000000\n",
              "dtype: float64"
            ]
          },
          "execution_count": 110,
          "metadata": {},
          "output_type": "execute_result"
        }
      ],
      "source": [
        "missing_val = (df.isna().sum())/df.shape[0] * 100\n",
        "missing_val.sort_values(ascending = False)"
      ]
    },
    {
      "cell_type": "code",
      "execution_count": 112,
      "id": "49c77f14",
      "metadata": {},
      "outputs": [
        {
          "data": {
            "text/plain": [
              "<Axes: >"
            ]
          },
          "execution_count": 112,
          "metadata": {},
          "output_type": "execute_result"
        },
        {
          "data": {
            "image/png": "[encoded data removed]",
            "text/plain": [
              "<Figure size 640x480 with 1 Axes>"
            ]
          },
          "metadata": {},
          "output_type": "display_data"
        }
      ],
      "source": [
        "sns.heatmap(df.isnull(),yticklabels=False,cbar=False,cmap='viridis')"
      ]
    },
    {
      "cell_type": "markdown",
      "id": "e7e6ce7c",
      "metadata": {},
      "source": [
        "Multiple columns contain multiple missing values."
      ]
    },
    {
      "cell_type": "markdown",
      "id": "d0123dfa",
      "metadata": {},
      "source": [
        "## 3.2 Check Duplicates"
      ]
    },
    {
      "cell_type": "code",
      "execution_count": 74,
      "id": "db8197b8",
      "metadata": {},
      "outputs": [
        {
          "data": {
            "text/plain": [
              "715"
            ]
          },
          "execution_count": 74,
          "metadata": {},
          "output_type": "execute_result"
        }
      ],
      "source": [
        "df.duplicated().sum()"
      ]
    },
    {
      "cell_type": "markdown",
      "id": "dd970118",
      "metadata": {},
      "source": [
        "There are 715 duplicates values in the dataset. We will remove all the duplicates values from the dataset."
      ]
    },
    {
      "cell_type": "code",
      "execution_count": 75,
      "id": "12370645",
      "metadata": {},
      "outputs": [
        {
          "data": {
            "text/plain": [
              "0"
            ]
          },
          "execution_count": 75,
          "metadata": {},
          "output_type": "execute_result"
        }
      ],
      "source": [
        "df.drop_duplicates(inplace=True)\n",
        "df.duplicated().sum()"
      ]
    },
    {
      "cell_type": "markdown",
      "id": "e04d4403",
      "metadata": {},
      "source": [
        "There are no duplicates values in the dataset. "
      ]
    },
    {
      "cell_type": "markdown",
      "id": "78a0dc85",
      "metadata": {},
      "source": [
        "## 3.3 Checking the number of unique values in each column."
      ]
    },
    {
      "cell_type": "code",
      "execution_count": 76,
      "id": "71eef267",
      "metadata": {},
      "outputs": [
        {
          "data": {
            "text/plain": [
              "Make                   48\n",
              "Model                 915\n",
              "Year                   28\n",
              "Engine Fuel Type       10\n",
              "Engine HP             356\n",
              "Engine Cylinders        9\n",
              "Transmission Type       5\n",
              "Driven_Wheels           4\n",
              "Number of Doors         3\n",
              "Market Category        71\n",
              "Vehicle Size            3\n",
              "Vehicle Style          16\n",
              "highway MPG            59\n",
              "city mpg               69\n",
              "Popularity             48\n",
              "MSRP                 6049\n",
              "dtype: int64"
            ]
          },
          "execution_count": 76,
          "metadata": {},
          "output_type": "execute_result"
        }
      ],
      "source": [
        "df.nunique()"
      ]
    },
    {
      "cell_type": "markdown",
      "id": "45b1a326",
      "metadata": {},
      "source": [
        "## 3.4 Check Statistics of the dataset"
      ]
    },
    {
      "cell_type": "code",
      "execution_count": 77,
      "id": "d620f2c2",
      "metadata": {},
      "outputs": [
        {
          "data": {
            "text/html": [
              "<div>\n",
              "<style scoped>\n",
              "    .dataframe tbody tr th:only-of-type {\n",
              "        vertical-align: middle;\n",
              "    }\n",
              "\n",
              "    .dataframe tbody tr th {\n",
              "        vertical-align: top;\n",
              "    }\n",
              "\n",
              "    .dataframe thead th {\n",
              "        text-align: right;\n",
              "    }\n",
              "</style>\n",
              "<table border=\"1\" class=\"dataframe\">\n",
              "  <thead>\n",
              "    <tr style=\"text-align: right;\">\n",
              "      <th></th>\n",
              "      <th>Year</th>\n",
              "      <th>Engine HP</th>\n",
              "      <th>Engine Cylinders</th>\n",
              "      <th>Number of Doors</th>\n",
              "      <th>highway MPG</th>\n",
              "      <th>city mpg</th>\n",
              "      <th>Popularity</th>\n",
              "      <th>MSRP</th>\n",
              "    </tr>\n",
              "  </thead>\n",
              "  <tbody>\n",
              "    <tr>\n",
              "      <th>count</th>\n",
              "      <td>11199.000000</td>\n",
              "      <td>11130.000000</td>\n",
              "      <td>11169.000000</td>\n",
              "      <td>11193.000000</td>\n",
              "      <td>11199.000000</td>\n",
              "      <td>11199.000000</td>\n",
              "      <td>11199.000000</td>\n",
              "      <td>1.119900e+04</td>\n",
              "    </tr>\n",
              "    <tr>\n",
              "      <th>mean</th>\n",
              "      <td>2010.714528</td>\n",
              "      <td>253.388859</td>\n",
              "      <td>5.665950</td>\n",
              "      <td>3.454123</td>\n",
              "      <td>26.610590</td>\n",
              "      <td>19.731851</td>\n",
              "      <td>1558.483347</td>\n",
              "      <td>4.192593e+04</td>\n",
              "    </tr>\n",
              "    <tr>\n",
              "      <th>std</th>\n",
              "      <td>7.228211</td>\n",
              "      <td>110.150938</td>\n",
              "      <td>1.797021</td>\n",
              "      <td>0.872946</td>\n",
              "      <td>8.977641</td>\n",
              "      <td>9.177555</td>\n",
              "      <td>1445.668872</td>\n",
              "      <td>6.153505e+04</td>\n",
              "    </tr>\n",
              "    <tr>\n",
              "      <th>min</th>\n",
              "      <td>1990.000000</td>\n",
              "      <td>55.000000</td>\n",
              "      <td>0.000000</td>\n",
              "      <td>2.000000</td>\n",
              "      <td>12.000000</td>\n",
              "      <td>7.000000</td>\n",
              "      <td>2.000000</td>\n",
              "      <td>2.000000e+03</td>\n",
              "    </tr>\n",
              "    <tr>\n",
              "      <th>25%</th>\n",
              "      <td>2007.000000</td>\n",
              "      <td>172.000000</td>\n",
              "      <td>4.000000</td>\n",
              "      <td>2.000000</td>\n",
              "      <td>22.000000</td>\n",
              "      <td>16.000000</td>\n",
              "      <td>549.000000</td>\n",
              "      <td>2.159950e+04</td>\n",
              "    </tr>\n",
              "    <tr>\n",
              "      <th>50%</th>\n",
              "      <td>2015.000000</td>\n",
              "      <td>239.000000</td>\n",
              "      <td>6.000000</td>\n",
              "      <td>4.000000</td>\n",
              "      <td>25.000000</td>\n",
              "      <td>18.000000</td>\n",
              "      <td>1385.000000</td>\n",
              "      <td>3.067500e+04</td>\n",
              "    </tr>\n",
              "    <tr>\n",
              "      <th>75%</th>\n",
              "      <td>2016.000000</td>\n",
              "      <td>303.000000</td>\n",
              "      <td>6.000000</td>\n",
              "      <td>4.000000</td>\n",
              "      <td>30.000000</td>\n",
              "      <td>22.000000</td>\n",
              "      <td>2009.000000</td>\n",
              "      <td>4.303250e+04</td>\n",
              "    </tr>\n",
              "    <tr>\n",
              "      <th>max</th>\n",
              "      <td>2017.000000</td>\n",
              "      <td>1001.000000</td>\n",
              "      <td>16.000000</td>\n",
              "      <td>4.000000</td>\n",
              "      <td>354.000000</td>\n",
              "      <td>137.000000</td>\n",
              "      <td>5657.000000</td>\n",
              "      <td>2.065902e+06</td>\n",
              "    </tr>\n",
              "  </tbody>\n",
              "</table>\n",
              "</div>"
            ],
            "text/plain": [
              "               Year     Engine HP  Engine Cylinders  Number of Doors  \\\n",
              "count  11199.000000  11130.000000      11169.000000     11193.000000   \n",
              "mean    2010.714528    253.388859          5.665950         3.454123   \n",
              "std        7.228211    110.150938          1.797021         0.872946   \n",
              "min     1990.000000     55.000000          0.000000         2.000000   \n",
              "25%     2007.000000    172.000000          4.000000         2.000000   \n",
              "50%     2015.000000    239.000000          6.000000         4.000000   \n",
              "75%     2016.000000    303.000000          6.000000         4.000000   \n",
              "max     2017.000000   1001.000000         16.000000         4.000000   \n",
              "\n",
              "        highway MPG      city mpg    Popularity          MSRP  \n",
              "count  11199.000000  11199.000000  11199.000000  1.119900e+04  \n",
              "mean      26.610590     19.731851   1558.483347  4.192593e+04  \n",
              "std        8.977641      9.177555   1445.668872  6.153505e+04  \n",
              "min       12.000000      7.000000      2.000000  2.000000e+03  \n",
              "25%       22.000000     16.000000    549.000000  2.159950e+04  \n",
              "50%       25.000000     18.000000   1385.000000  3.067500e+04  \n",
              "75%       30.000000     22.000000   2009.000000  4.303250e+04  \n",
              "max      354.000000    137.000000   5657.000000  2.065902e+06  "
            ]
          },
          "execution_count": 77,
          "metadata": {},
          "output_type": "execute_result"
        }
      ],
      "source": [
        "df.describe()"
      ]
    },
    {
      "cell_type": "markdown",
      "id": "60b717ad",
      "metadata": {},
      "source": [
        "`Insights:` \n",
        "\n",
        "\n",
        "From the above description of numerical data, all means are not close to each other.\n",
        "All standard deviations are also not close to each other.\n",
        "\n",
        "•\tMeans (year) = (2010) and max (year) = (2017). This is acceptable.\n",
        "\n",
        "•\tMeans (engine cylinders) = 5.6, and max (engine cylinders) = 16.. This is acceptable.\n",
        "\n",
        "•\tMeans (number of doors) = (3.4) and max (engine cylinders) = (4). This is acceptable.\n",
        "\n",
        "•\tMean (engine) = (253) and max (year) = (1001). This is not acceptable. It indicates that this feature might have some outliers.\n",
        "\n",
        "•\tMeans (Highway MPG) = (26.6) and max (Highway MPG) = (354). This is not acceptable. It indicates that this feature might have some outliers.\n",
        "\n",
        "•\tMeans (city MPG) = (19.7) and max (city MPG) = (137). This is not acceptable. It indicates that this feature might have some outliers."
      ]
    },
    {
      "cell_type": "markdown",
      "id": "2fd96b2d",
      "metadata": {},
      "source": [
        "## 3.5 Explore Data"
      ]
    },
    {
      "cell_type": "code",
      "execution_count": 78,
      "id": "83e17393",
      "metadata": {},
      "outputs": [
        {
          "name": "stdout",
          "output_type": "stream",
          "text": [
            "We have 8 numerical features : ['Year', 'Engine HP', 'Engine Cylinders', 'Number of Doors', 'highway MPG', 'city mpg', 'Popularity', 'MSRP']\n",
            "\n",
            "We have 8 categorical features : ['Make', 'Model', 'Engine Fuel Type', 'Transmission Type', 'Driven_Wheels', 'Market Category', 'Vehicle Size', 'Vehicle Style']\n"
          ]
        }
      ],
      "source": [
        "# define numerical & categorical columns\n",
        "numeric_features = [feature for feature in df.columns if df[feature].dtype != 'O']\n",
        "categorical_features = [feature for feature in df.columns if df[feature].dtype == 'O']\n",
        "\n",
        "# print columns\n",
        "print('We have {} numerical features : {}'.format(len(numeric_features), numeric_features))\n",
        "print('\\nWe have {} categorical features : {}'.format(len(categorical_features), categorical_features))"
      ]
    },
    {
      "cell_type": "code",
      "execution_count": 79,
      "id": "inlkCRcN-fnZ",
      "metadata": {
        "colab": {
          "base_uri": "https://localhost:8080/"
        },
        "id": "inlkCRcN-fnZ",
        "outputId": "8f2ce5a1-ffef-44cf-9bfa-aa33324e9033"
      },
      "outputs": [
        {
          "name": "stdout",
          "output_type": "stream",
          "text": [
            "Make :  ['BMW' 'Audi' 'FIAT' 'Mercedes-Benz' 'Chrysler' 'Nissan' 'Volvo' 'Mazda'\n",
            " 'Mitsubishi' 'Ferrari' 'Alfa Romeo' 'Toyota' 'McLaren' 'Maybach'\n",
            " 'Pontiac' 'Porsche' 'Saab' 'GMC' 'Hyundai' 'Plymouth' 'Honda'\n",
            " 'Oldsmobile' 'Suzuki' 'Ford' 'Cadillac' 'Kia' 'Bentley' 'Chevrolet'\n",
            " 'Dodge' 'Lamborghini' 'Lincoln' 'Subaru' 'Volkswagen' 'Spyker' 'Buick'\n",
            " 'Acura' 'Rolls-Royce' 'Maserati' 'Lexus' 'Aston Martin' 'Land Rover'\n",
            " 'Lotus' 'Infiniti' 'Scion' 'Genesis' 'HUMMER' 'Tesla' 'Bugatti']\n",
            "\n",
            " **************************************************************************************************************\n",
            "Model :  ['1 Series M' '1 Series' '100' '124 Spider' '190-Class' '2 Series' '200'\n",
            " '200SX' '240SX' '240' '2' '3 Series Gran Turismo' '3 Series' '300-Class'\n",
            " '3000GT' '300' '300M' '300ZX' '323' '350-Class' '350Z' '360' '370Z' '3'\n",
            " '4 Series Gran Coupe' '4 Series' '400-Class' '420-Class' '456M'\n",
            " '458 Italia' '4C' '4Runner' '5 Series Gran Turismo' '5 Series'\n",
            " '500-Class' '500e' '500' '500L' '500X' '550' '560-Class' '570S' '575M'\n",
            " '57' '599' '5' '6 Series Gran Coupe' '6 Series' '600-Class' '6000'\n",
            " '612 Scaglietti' '626' '62' '650S Coupe' '650S Spider' '6' '7 Series'\n",
            " '718 Cayman' '740' '760' '780' '8 Series' '80' '850' '86' '9-2X'\n",
            " '9-3 Griffin' '09-Mar' '9-4X' '09-May' '9-7X' '9000' '900' '90' '911'\n",
            " '928' '929' '940' '944' '960' '968' 'A3' 'A4 allroad' 'A4' 'A5' 'A6' 'A7'\n",
            " 'A8' 'Acadia Limited' 'Acadia' 'Accent' 'Acclaim' 'Accord Crosstour'\n",
            " 'Accord Hybrid' 'Accord Plug-In Hybrid' 'Accord' 'Achieva'\n",
            " 'ActiveHybrid 5' 'ActiveHybrid 7' 'ActiveHybrid X6' 'Aerio' 'Aerostar'\n",
            " 'Alero' 'Allante' 'allroad quattro' 'allroad' 'ALPINA B6 Gran Coupe'\n",
            " 'ALPINA B7' 'Alpina' 'Altima Hybrid' 'Altima' 'Amanti' 'AMG GT' 'Armada'\n",
            " 'Arnage' 'Aspen' 'Aspire' 'Astro Cargo' 'Astro' 'ATS Coupe' 'ATS-V' 'ATS'\n",
            " 'Aurora' 'Avalanche' 'Avalon Hybrid' 'Avalon' 'Avenger' 'Aventador'\n",
            " 'Aveo' 'Aviator' 'Axxess' 'Azera' 'Aztek' 'Azure T' 'Azure'\n",
            " 'B-Class Electric Drive' 'B-Series Pickup' 'B-Series Truck' 'B-Series'\n",
            " 'B9 Tribeca' 'Baja' 'Beetle Convertible' 'Beetle' 'Beretta'\n",
            " 'Black Diamond Avalanche' 'Blackwood' 'Blazer' 'Bolt EV' 'Bonneville'\n",
            " 'Borrego' 'Boxster' 'Bravada' 'Breeze' 'Bronco II' 'Bronco' 'Brooklands'\n",
            " 'Brougham' 'BRZ' 'C-Class' 'C-Max Hybrid' 'C30' 'C36 AMG' 'C43 AMG' 'C70'\n",
            " 'C8' 'Cabriolet' 'Cabrio' 'Cadenza' 'Caliber' 'California T' 'California'\n",
            " 'Camaro' 'Camry Hybrid' 'Camry Solara' 'Camry' 'Canyon' 'Caprice'\n",
            " 'Captiva Sport' 'Caravan' 'Carrera GT' 'Cascada' 'Catera' 'Cavalier'\n",
            " 'Cayenne' 'Cayman S' 'Cayman' 'CC' 'Celebrity' 'Celica' 'Century'\n",
            " 'Challenger' 'Charger' 'Chevy Van' 'Ciera' 'Cirrus' 'City Express'\n",
            " 'Civic CRX' 'Civic del Sol' 'Civic' 'C/K 1500 Series' 'C/K 2500 Series'\n",
            " 'CL-Class' 'CLA-Class' 'CL' 'Classic' 'CLK-Class' 'CLS-Class' 'Cobalt'\n",
            " 'Colorado' 'Colt' 'Concorde' 'Continental Flying Spur Speed'\n",
            " 'Continental Flying Spur' 'Continental GT Speed Convertible'\n",
            " 'Continental GT Speed' 'Continental GT3-R' 'Continental GT'\n",
            " 'Continental GTC Speed' 'Continental GTC'\n",
            " 'Continental Supersports Convertible' 'Continental Supersports'\n",
            " 'Continental' 'Contour SVT' 'Contour' 'Corniche' 'Corolla iM' 'Corolla'\n",
            " 'Corrado' 'Corsica' 'Corvette Stingray' 'Corvette' 'Coupe' 'CR-V' 'CR-Z'\n",
            " 'Cressida' 'Crossfire' 'Crosstour' 'Crosstrek' 'Crown Victoria'\n",
            " 'Cruze Limited' 'Cruze' 'CT 200h' 'CT6' 'CTS Coupe' 'CTS-V Coupe'\n",
            " 'CTS-V Wagon' 'CTS-V' 'CTS Wagon' 'CTS' 'Cube' 'Custom Cruiser'\n",
            " 'Cutlass Calais' 'Cutlass Ciera' 'Cutlass Supreme' 'Cutlass' 'CX-3'\n",
            " 'CX-5' 'CX-7' 'CX-9' 'Dakota' 'Dart' 'Dawn' 'Daytona' 'DB7' 'DB9 GT'\n",
            " 'DB9' 'DBS' 'Defender' 'DeVille' 'Diablo' 'Diamante'\n",
            " 'Discovery Series II' 'Discovery Sport' 'Discovery' 'DTS' 'Durango'\n",
            " 'Dynasty' 'E-150' 'E-250' 'E-Class' 'e-Golf' 'E-Series Van'\n",
            " 'E-Series Wagon' 'E55 AMG' 'ECHO' 'Eclipse Spyder' 'Eclipse' 'Edge'\n",
            " 'Eighty-Eight Royale' 'Eighty-Eight' 'Elantra Coupe' 'Elantra GT'\n",
            " 'Elantra Touring' 'Elantra' 'Eldorado' 'Electra' 'Element' 'Elise'\n",
            " 'Enclave' 'Encore' 'Endeavor' 'Entourage' 'Envision' 'Envoy XL'\n",
            " 'Envoy XUV' 'Envoy' 'Enzo' 'Eos' 'Equator' 'Equinox' 'Equus' 'ES 250'\n",
            " 'ES 300h' 'ES 300' 'ES 330' 'ES 350' 'Escalade ESV' 'Escalade EXT'\n",
            " 'Escalade Hybrid' 'Escalade' 'Escape Hybrid' 'Escape' 'Escort' 'Esprit'\n",
            " 'Estate Wagon' 'Esteem' 'EuroVan' 'Evora 400' 'Evora' 'EX35' 'Excel'\n",
            " 'Exige' 'EX' 'Expedition' 'Explorer Sport Trac' 'Explorer Sport'\n",
            " 'Explorer' 'Expo' 'Express Cargo' 'Express' 'F-150 Heritage'\n",
            " 'F-150 SVT Lightning' 'F-150' 'F-250' 'F12 Berlinetta' 'F430' 'Festiva'\n",
            " 'FF' 'Fiesta' 'Firebird' 'Fit EV' 'Fit' 'Five Hundred' 'FJ Cruiser'\n",
            " 'Fleetwood' 'Flex' 'Flying Spur' 'Focus RS' 'Focus ST' 'Focus' 'Forenza'\n",
            " 'Forester' 'Forte' 'Fox' 'FR-S' 'Freelander' 'Freestar' 'Freestyle'\n",
            " 'Frontier' 'Fusion Hybrid' 'Fusion' 'FX35' 'FX45' 'FX50' 'FX' 'G-Class'\n",
            " 'G Convertible' 'G Coupe' 'G Sedan' 'G20' 'G35' 'G37 Convertible'\n",
            " 'G37 Coupe' 'G37 Sedan' 'G37' 'G3' 'G5' 'G6' 'G80' 'G8' 'Galant'\n",
            " 'Gallardo' 'Genesis Coupe' 'Genesis' 'Ghibli' 'Ghost Series II' 'Ghost'\n",
            " 'GL-Class' 'GLA-Class' 'GLC-Class' 'GLE-Class Coupe' 'GLE-Class' 'GLI'\n",
            " 'GLK-Class' 'GLS-Class' 'Golf Alltrack' 'Golf GTI' 'Golf R'\n",
            " 'Golf SportWagen' 'Golf' 'Grand Am' 'Grand Caravan' 'Grand Prix'\n",
            " 'Grand Vitara' 'Grand Voyager' 'GranSport' 'GranTurismo Convertible'\n",
            " 'GranTurismo' 'GS 200t' 'GS 300' 'GS 350' 'GS 400' 'GS 430' 'GS 450h'\n",
            " 'GS 460' 'GS F' 'GT-R' 'GT' 'GTI' 'GTO' 'GX 460' 'GX 470' 'H3' 'H3T'\n",
            " 'HHR' 'Highlander Hybrid' 'Highlander' 'Horizon' 'HR-V' 'HS 250h'\n",
            " 'Huracan' 'i-MiEV' 'I30' 'I35' 'i3' 'iA' 'ILX Hybrid' 'ILX'\n",
            " 'Impala Limited' 'Impala' 'Imperial' 'Impreza WRX' 'Impreza' 'iM'\n",
            " 'Insight' 'Integra' 'Intrepid' 'Intrigue' 'iQ' 'IS 200t' 'IS 250 C'\n",
            " 'IS 250' 'IS 300' 'IS 350 C' 'IS 350' 'IS F' 'J30' 'Jetta GLI'\n",
            " 'Jetta Hybrid' 'Jetta SportWagen' 'Jetta' 'Jimmy' 'Journey' 'Juke'\n",
            " 'Justy' 'JX' 'K900' 'Kizashi' 'LaCrosse' 'Lancer Evolution'\n",
            " 'Lancer Sportback' 'Lancer' 'Land Cruiser' 'Landaulet' 'Laser' 'Le Baron'\n",
            " 'Le Mans' 'Leaf' 'Legacy' 'Legend' 'LeSabre' 'Levante' 'LFA' 'LHS'\n",
            " 'Loyale' 'LR2' 'LR3' 'LR4' 'LS 400' 'LS 430' 'LS 460' 'LS 600h L' 'LS'\n",
            " 'LSS' 'LTD Crown Victoria' 'Lucerne' 'Lumina Minivan' 'Lumina' 'LX 450'\n",
            " 'LX 470' 'LX 570' 'M-Class' 'M2' 'M30' 'M35' 'M37' 'M3' 'M4 GTS' 'M45'\n",
            " 'M4' 'M56' 'M5' 'M6 Gran Coupe' 'M6' 'Macan' 'Magnum' 'Malibu Classic'\n",
            " 'Malibu Hybrid' 'Malibu Limited' 'Malibu Maxx' 'Malibu' 'Mark LT'\n",
            " 'Mark VIII' 'Mark VII' 'Matrix' 'Maxima' 'Maybach' 'Mazdaspeed 3'\n",
            " 'Mazdaspeed 6' 'Mazdaspeed MX-5 Miata' 'Mazdaspeed Protege' 'M' 'MDX'\n",
            " 'Metris' 'Metro' 'Mighty Max Pickup' 'Millenia' 'Mirage G4' 'Mirage'\n",
            " 'MKC' 'MKS' 'MKT' 'MKX' 'MKZ Hybrid' 'MKZ' 'ML55 AMG' 'Model S' 'Monaco'\n",
            " 'Montana SV6' 'Montana' 'Monte Carlo' 'Montero Sport' 'Montero' 'MP4-12C'\n",
            " 'MPV' 'MR2 Spyder' 'MR2' 'Mulsanne' 'Murano CrossCabriolet' 'Murano'\n",
            " 'Murcielago' 'Mustang SVT Cobra' 'Mustang' 'MX-3' 'MX-5 Miata' 'MX-6'\n",
            " 'Navajo' 'Navigator' 'Neon' 'New Beetle' 'New Yorker' 'Ninety-Eight'\n",
            " 'Nitro' 'NSX' 'NV200' 'NX 200t' 'NX 300h' 'NX' 'Odyssey' 'Omni'\n",
            " 'Optima Hybrid' 'Optima' 'Outback' 'Outlander Sport' 'Outlander'\n",
            " 'Pacifica' 'Panamera' 'Park Avenue' 'Park Ward' 'Paseo' 'Passat'\n",
            " 'Passport' 'Pathfinder' 'Phaeton' 'Phantom Coupe'\n",
            " 'Phantom Drophead Coupe' 'Phantom' 'Pickup' 'Pilot' 'Precis' 'Prelude'\n",
            " 'Previa' 'Prius c' 'Prius Prime' 'Prius v' 'Prius' 'Prizm' 'Probe'\n",
            " 'Protege5' 'Protege' 'Prowler' 'PT Cruiser' 'Pulsar' 'Q3' 'Q40' 'Q45'\n",
            " 'Q50' 'Q5' 'Q60 Convertible' 'Q60 Coupe' 'Q70' 'Q7' 'Quattroporte'\n",
            " 'Quest' 'QX4' 'QX50' 'QX56' 'QX60' 'QX70' 'QX80' 'QX' 'R-Class' 'R32'\n",
            " 'R8' 'Rabbit' 'Raider' 'Rainier' 'Rally Wagon' 'RAM 150' 'RAM 250'\n",
            " 'Ram 50 Pickup' 'Ram Cargo' 'Ram Pickup 1500' 'Ram Van' 'Ram Wagon'\n",
            " 'Ramcharger' 'Range Rover Evoque' 'Range Rover Sport' 'Range Rover'\n",
            " 'Ranger' 'Rapide S' 'Rapide' 'RAV4 EV' 'RAV4 Hybrid' 'RAV4' 'RC 200t'\n",
            " 'RC 300' 'RC 350' 'RC F' 'RDX' 'Reatta' 'Regal' 'Regency' 'Rendezvous'\n",
            " 'Reno' 'Reventon' 'Ridgeline' 'Rio' 'Riviera' 'RL' 'RLX' 'Roadmaster'\n",
            " 'Rogue Select' 'Rogue' 'Rondo' 'Routan' 'RS 4' 'RS 5' 'RS 6' 'RS 7' 'RSX'\n",
            " 'RX 300' 'RX 330' 'RX 350' 'RX 400h' 'RX 450h' 'RX-7' 'RX-8'\n",
            " 'S-10 Blazer' 'S-10' 'S-15 Jimmy' 'S-15' 'S-Class' 'S2000' 'S3' 'S40'\n",
            " 'S4' 'S5' 'S60 Cross Country' 'S60' 'S6' 'S70' 'S7' 'S80' 'S8' 'S90'\n",
            " 'Safari Cargo' 'Safari' 'Samurai' 'Santa Fe Sport' 'Santa Fe'\n",
            " 'Savana Cargo' 'Savana' 'SC 300' 'SC 400' 'SC 430' 'Scoupe' 'Sebring'\n",
            " 'Sedona' 'Sentra' 'Sephia' 'Sequoia' 'Seville' 'Shadow' 'Shelby GT350'\n",
            " 'Shelby GT500' 'Sidekick' 'Sienna' 'Sierra 1500 Classic'\n",
            " 'Sierra 1500 Hybrid' 'Sierra 1500' 'Sierra 1500HD' 'Sierra C3'\n",
            " 'Sierra Classic 1500' 'Sigma' 'Silhouette' 'Silver Seraph'\n",
            " 'Silverado 1500 Classic' 'Silverado 1500 Hybrid' 'Silverado 1500'\n",
            " 'Sixty Special' 'Skylark' 'SL-Class' 'SLC-Class' 'SLK-Class'\n",
            " 'SLR McLaren' 'SLS AMG GT Final Edition' 'SLS AMG GT' 'SLS AMG' 'SLX'\n",
            " 'Solstice' 'Sonata Hybrid' 'Sonata' 'Sonic' 'Sonoma' 'Sorento' 'Soul EV'\n",
            " 'Soul' 'Spark EV' 'Spark' 'Spectra' 'Spirit' 'Sportage' 'Sportvan'\n",
            " 'Spyder' 'SQ5' 'SRT Viper' 'SRX' 'SS' 'SSR' 'Stanza' 'Stealth' 'Stratus'\n",
            " 'STS-V' 'STS' 'Suburban' 'Sunbird' 'Sundance' 'Sunfire' 'Superamerica'\n",
            " 'Supersports Convertible ISR' 'Supra' 'SVX' 'Swift' 'SX4' 'Syclone'\n",
            " 'T100' 'Tacoma' 'Tahoe Hybrid' 'Tahoe Limited/Z71' 'Tahoe' 'Taurus X'\n",
            " 'Taurus' 'TC' 'tC' 'Tempo' 'Tercel' 'Terrain' 'Terraza' 'Thunderbird'\n",
            " 'Tiburon' 'Tiguan' 'Titan' 'TL' 'TLX' 'Toronado' 'Torrent' 'Touareg 2'\n",
            " 'Touareg' 'Town and Country' 'Town Car' 'Tracker' 'TrailBlazer EXT'\n",
            " 'TrailBlazer' 'Trans Sport' 'Transit Connect' 'Transit Wagon' 'Traverse'\n",
            " 'Trax' 'Tribeca' 'Tribute Hybrid' 'Tribute' 'Truck' 'TSX Sport Wagon'\n",
            " 'TSX' 'TT RS' 'TT' 'TTS' 'Tucson' 'Tundra' 'Typhoon' 'Uplander'\n",
            " 'V12 Vanquish' 'V12 Vantage S' 'V12 Vantage' 'V40' 'V50'\n",
            " 'V60 Cross Country' 'V60' 'V70' 'V8 Vantage' 'V8' 'V90' 'Vanagon'\n",
            " 'Vandura' 'Van' 'Vanquish' 'Vanwagon' 'Veloster' 'Venture' 'Venza'\n",
            " 'Veracruz' 'Verano' 'Verona' 'Versa Note' 'Versa' 'Veyron 16.4' 'Vibe'\n",
            " 'Vigor' 'Viper' 'Virage' 'Vitara' 'Voyager' 'Windstar Cargo' 'Windstar'\n",
            " 'Wraith' 'WRX' 'X-90' 'X1' 'X3' 'X4' 'X5 M' 'X5' 'X6 M' 'X6' 'xA' 'xB'\n",
            " 'XC60' 'XC70' 'XC90' 'XC' 'xD' 'XG300' 'XG350' 'XL-7' 'XL7' 'XLR-V' 'XLR'\n",
            " 'XT5' 'Xterra' 'XTS' 'XT' 'XV Crosstrek' 'Yaris iA' 'Yaris'\n",
            " 'Yukon Denali' 'Yukon Hybrid' 'Yukon XL' 'Yukon' 'Z3' 'Z4 M' 'Z4' 'Z8'\n",
            " 'ZDX' 'Zephyr']\n",
            "\n",
            " **************************************************************************************************************\n",
            "Engine Fuel Type :  ['premium unleaded (required)' 'regular unleaded'\n",
            " 'premium unleaded (recommended)' 'flex-fuel (unleaded/E85)' 'diesel'\n",
            " 'electric' 'flex-fuel (premium unleaded recommended/E85)' 'natural gas'\n",
            " 'flex-fuel (premium unleaded required/E85)'\n",
            " 'flex-fuel (unleaded/natural gas)' nan]\n",
            "\n",
            " **************************************************************************************************************\n",
            "Transmission Type :  ['MANUAL' 'AUTOMATIC' 'AUTOMATED_MANUAL' 'DIRECT_DRIVE' 'UNKNOWN']\n",
            "\n",
            " **************************************************************************************************************\n",
            "Driven_Wheels :  ['rear wheel drive' 'front wheel drive' 'all wheel drive'\n",
            " 'four wheel drive']\n",
            "\n",
            " **************************************************************************************************************\n",
            "Market Category :  ['Factory Tuner,Luxury,High-Performance' 'Luxury,Performance'\n",
            " 'Luxury,High-Performance' 'Luxury' 'Performance' 'Flex Fuel'\n",
            " 'Flex Fuel,Performance' nan 'Hatchback' 'Hatchback,Luxury,Performance'\n",
            " 'Hatchback,Luxury' 'Luxury,High-Performance,Hybrid' 'Diesel,Luxury'\n",
            " 'Hatchback,Performance' 'Hatchback,Factory Tuner,Performance'\n",
            " 'High-Performance' 'Factory Tuner,High-Performance'\n",
            " 'Exotic,High-Performance' 'Exotic,Factory Tuner,High-Performance'\n",
            " 'Factory Tuner,Performance' 'Crossover' 'Exotic,Luxury'\n",
            " 'Exotic,Luxury,High-Performance' 'Exotic,Luxury,Performance'\n",
            " 'Factory Tuner,Luxury,Performance' 'Flex Fuel,Luxury' 'Crossover,Luxury'\n",
            " 'Hatchback,Factory Tuner,Luxury,Performance' 'Crossover,Hatchback'\n",
            " 'Hybrid' 'Luxury,Performance,Hybrid'\n",
            " 'Crossover,Luxury,Performance,Hybrid' 'Crossover,Luxury,Performance'\n",
            " 'Exotic,Factory Tuner,Luxury,High-Performance'\n",
            " 'Flex Fuel,Luxury,High-Performance' 'Crossover,Flex Fuel' 'Diesel'\n",
            " 'Hatchback,Diesel' 'Crossover,Luxury,Diesel'\n",
            " 'Crossover,Luxury,High-Performance'\n",
            " 'Exotic,Flex Fuel,Factory Tuner,Luxury,High-Performance'\n",
            " 'Exotic,Flex Fuel,Luxury,High-Performance'\n",
            " 'Exotic,Factory Tuner,Luxury,Performance' 'Hatchback,Hybrid'\n",
            " 'Crossover,Hybrid' 'Hatchback,Luxury,Hybrid'\n",
            " 'Flex Fuel,Luxury,Performance' 'Crossover,Performance' 'Luxury,Hybrid'\n",
            " 'Crossover,Flex Fuel,Luxury,Performance' 'Crossover,Flex Fuel,Luxury'\n",
            " 'Crossover,Flex Fuel,Performance'\n",
            " 'Hatchback,Factory Tuner,High-Performance' 'Hatchback,Flex Fuel'\n",
            " 'Factory Tuner,Luxury' 'Crossover,Factory Tuner,Luxury,High-Performance'\n",
            " 'Crossover,Factory Tuner,Luxury,Performance'\n",
            " 'Crossover,Hatchback,Factory Tuner,Performance'\n",
            " 'Crossover,Hatchback,Performance' 'Flex Fuel,Hybrid'\n",
            " 'Flex Fuel,Performance,Hybrid' 'Crossover,Exotic,Luxury,High-Performance'\n",
            " 'Crossover,Exotic,Luxury,Performance' 'Exotic,Performance'\n",
            " 'Exotic,Luxury,High-Performance,Hybrid' 'Crossover,Luxury,Hybrid'\n",
            " 'Flex Fuel,Factory Tuner,Luxury,High-Performance' 'Performance,Hybrid'\n",
            " 'Crossover,Factory Tuner,Performance' 'Crossover,Diesel'\n",
            " 'Flex Fuel,Diesel' 'Crossover,Hatchback,Luxury']\n",
            "\n",
            " **************************************************************************************************************\n",
            "Vehicle Size :  ['Compact' 'Midsize' 'Large']\n",
            "\n",
            " **************************************************************************************************************\n",
            "Vehicle Style :  ['Coupe' 'Convertible' 'Sedan' 'Wagon' '4dr Hatchback' '2dr Hatchback'\n",
            " '4dr SUV' 'Passenger Minivan' 'Cargo Minivan' 'Crew Cab Pickup'\n",
            " 'Regular Cab Pickup' 'Extended Cab Pickup' '2dr SUV' 'Cargo Van'\n",
            " 'Convertible SUV' 'Passenger Van']\n",
            "\n",
            " **************************************************************************************************************\n"
          ]
        }
      ],
      "source": [
        "for column in list(df.select_dtypes(include='object')):\n",
        "  print(column, ': ', df[column].unique())\n",
        "  print('\\n','*'*110)"
      ]
    },
    {
      "cell_type": "code",
      "execution_count": 80,
      "id": "a86696da",
      "metadata": {
        "colab": {
          "base_uri": "https://localhost:8080/"
        },
        "id": "a86696da",
        "outputId": "22279338-f539-4ef6-b962-069a3e7c5375"
      },
      "outputs": [
        {
          "name": "stdout",
          "output_type": "stream",
          "text": [
            "Year :  [2011 2012 2013 1992 1993 1994 2017 1991 2016 1990 2015 1996 1997 1998\n",
            " 2014 1999 2002 2003 2004 1995 2007 2008 2009 2001 2010 2000 2005 2006]\n",
            "\n",
            " ****************************************************************************************************************\n",
            "highway MPG :  [ 26  28  27  25  24  20  21  22  35  34  31  30  32  33  23  36  29  45\n",
            "  43  40  42  19  18  17  15  37  39  41  16  14  38 108 103  12 354  47\n",
            "  46  82 110  44  13 105  99 102 111 106  48 101  90  97  94  98 100 107\n",
            "  53  50  74  92 109]\n",
            "\n",
            " ****************************************************************************************************************\n",
            "city mpg :  [ 19  20  18  17  16  26  23  22  21  24  15  25  29  28  32  31  30  14\n",
            "  10  27  12  13   9  11 122 121   8  50  49  47  35  33  40  85 128  42\n",
            "  43  36  44 126   7  34 132 110 137 129  39  41 124  37  88  94  86 101\n",
            "  95  89 102  98  92  97  91  53  55  51  54  58  78  38 120]\n",
            "\n",
            " ****************************************************************************************************************\n",
            "Popularity :  [3916 3105  819  617 1013 2009  870  586  436 2774  113 2031  416   67\n",
            "  210 1715  376  549 1439  535 2202   26  481 5657 1624 1720  520 1385\n",
            " 1851 1158   61  640  873    2  155  204   86  238  454  259  258  613\n",
            "  190  105   21  130 1391  820]\n",
            "\n",
            " ****************************************************************************************************************\n",
            "MSRP :  [46135 40650 36350 ... 46120 50620 50920]\n",
            "\n",
            " ****************************************************************************************************************\n"
          ]
        }
      ],
      "source": [
        "for column in list(df.select_dtypes(include='int')):\n",
        "  print(column, ': ', df[column].unique())\n",
        "  print('\\n','*'*112)"
      ]
    },
    {
      "cell_type": "code",
      "execution_count": 81,
      "id": "kON1t-ORCVas",
      "metadata": {
        "colab": {
          "base_uri": "https://localhost:8080/",
          "height": 838
        },
        "id": "kON1t-ORCVas",
        "outputId": "3f790358-d113-4b8c-8e49-570e5e68ba07"
      },
      "outputs": [
        {
          "data": {
            "image/png": "[encoded data removed]",
            "text/plain": [
              "<Figure size 2000x1400 with 9 Axes>"
            ]
          },
          "metadata": {},
          "output_type": "display_data"
        }
      ],
      "source": [
        "df.hist(figsize=(20,14))\n",
        "plt.show()"
      ]
    },
    {
      "cell_type": "markdown",
      "id": "LmLl32fFKhqN",
      "metadata": {
        "id": "LmLl32fFKhqN"
      },
      "source": [
        "Normal & Shapiro Test"
      ]
    },
    {
      "cell_type": "code",
      "execution_count": 82,
      "id": "FodQdyTvKfg6",
      "metadata": {
        "colab": {
          "base_uri": "https://localhost:8080/"
        },
        "id": "FodQdyTvKfg6",
        "outputId": "1f5fa08a-2932-47cc-bd81-77f303efe32f"
      },
      "outputs": [
        {
          "name": "stdout",
          "output_type": "stream",
          "text": [
            "p value[Year] : 0.0\n",
            "Alternate Hypothesis >> Year data is not Normally distributed.\n",
            "****************************************************************************************************\n",
            "p value[Engine HP] : nan\n",
            "Null hypothesis >> Engine HP data is Normally Distributed.\n",
            "****************************************************************************************************\n",
            "p value[Engine Cylinders] : nan\n",
            "Null hypothesis >> Engine Cylinders data is Normally Distributed.\n",
            "****************************************************************************************************\n",
            "p value[Number of Doors] : nan\n",
            "Null hypothesis >> Number of Doors data is Normally Distributed.\n",
            "****************************************************************************************************\n",
            "p value[highway MPG] : 0.0\n",
            "Alternate Hypothesis >> highway MPG data is not Normally distributed.\n",
            "****************************************************************************************************\n",
            "p value[city mpg] : 0.0\n",
            "Alternate Hypothesis >> city mpg data is not Normally distributed.\n",
            "****************************************************************************************************\n",
            "p value[Popularity] : 0.0\n",
            "Alternate Hypothesis >> Popularity data is not Normally distributed.\n",
            "****************************************************************************************************\n",
            "p value[MSRP] : 0.0\n",
            "Alternate Hypothesis >> MSRP data is not Normally distributed.\n",
            "****************************************************************************************************\n"
          ]
        }
      ],
      "source": [
        "for feature in numeric_features:\n",
        "    status,p_val = normaltest(df[feature])\n",
        "    print(f'p value[{feature}] :', p_val)\n",
        "    if p_val.all() > 0.05:\n",
        "        print('Null hypothesis >> {} data is Normally Distributed.'.format(feature))\n",
        "    else:\n",
        "        print('Alternate Hypothesis >> {} data is not Normally distributed.'.format(feature))\n",
        "    print('*'*100)"
      ]
    },
    {
      "cell_type": "markdown",
      "id": "sMH-5rurLMal",
      "metadata": {
        "id": "sMH-5rurLMal"
      },
      "source": [
        "Z-Score Test"
      ]
    },
    {
      "cell_type": "code",
      "execution_count": 43,
      "id": "X7w-PILiK_hp",
      "metadata": {
        "colab": {
          "base_uri": "https://localhost:8080/"
        },
        "id": "X7w-PILiK_hp",
        "outputId": "00d68fcf-7243-4f27-b6a5-af04a3cf3546"
      },
      "outputs": [
        {
          "name": "stdout",
          "output_type": "stream",
          "text": [
            "mean(Engine HP):  253.38885893980233\n",
            "standard distribution(Engine HP):  110.15093795679645\n",
            "Detected Outliers of Engine HP are:  [597.0, 597.0, 631.0, 604.0, 620.0, 620.0, 611.0, 611.0, 611.0, 611.0, 661.0, 604.0, 631.0, 620.0, 620.0, 641.0, 641.0, 600.0, 600.0, 600.0, 700.0, 700.0, 720.0, 720.0, 700.0, 700.0, 720.0, 720.0, 700.0, 750.0, 750.0, 700.0, 650.0, 650.0, 605.0, 605.0, 707.0, 707.0, 707.0, 707.0, 707.0, 707.0, 621.0, 621.0, 621.0, 600.0, 600.0, 600.0, 626.0, 600.0, 616.0, 626.0, 626.0, 626.0, 626.0, 600.0, 600.0, 621.0, 621.0, 621.0, 621.0, 621.0, 650.0, 650.0, 650.0, 650.0, 650.0, 650.0, 650.0, 650.0, 650.0, 650.0, 650.0, 650.0, 650.0, 650.0, 650.0, 650.0, 650.0, 650.0, 640.0, 640.0, 660.0, 731.0, 731.0, 731.0, 651.0, 651.0, 651.0, 616.0, 616.0, 616.0, 621.0, 600.0, 600.0, 610.0, 610.0, 610.0, 620.0, 620.0, 592.0, 616.0, 632.0, 632.0, 632.0, 632.0, 631.0, 631.0, 631.0, 631.0, 670.0, 610.0, 650.0, 621.0, 621.0, 621.0, 621.0, 621.0, 621.0, 605.0, 605.0, 662.0, 662.0, 662.0, 662.0, 621.0, 621.0, 621.0, 641.0, 617.0, 617.0, 622.0, 640.0, 640.0, 640.0, 640.0, 631.0, 1001.0, 1001.0, 1001.0, 645.0, 645.0, 645.0, 645.0, 645.0, 645.0, 645.0, 645.0, 645.0, 645.0, 645.0, 624.0, 624.0, 624.0]\n",
            "****************************************************************************************************\n",
            "mean(Engine Cylinders):  5.66595039842421\n",
            "standard distribution(Engine Cylinders):  1.797021297122056\n",
            "Detected Outliers of Engine Cylinders are:  [12.0, 12.0, 12.0, 12.0, 12.0, 12.0, 0.0, 0.0, 0.0, 12.0, 12.0, 12.0, 12.0, 12.0, 12.0, 12.0, 12.0, 12.0, 12.0, 12.0, 12.0, 12.0, 12.0, 12.0, 12.0, 12.0, 12.0, 12.0, 12.0, 12.0, 12.0, 12.0, 12.0, 12.0, 12.0, 12.0, 12.0, 12.0, 12.0, 12.0, 12.0, 12.0, 12.0, 12.0, 12.0, 12.0, 12.0, 12.0, 12.0, 12.0, 12.0, 12.0, 12.0, 12.0, 12.0, 12.0, 12.0, 12.0, 12.0, 12.0, 12.0, 0.0, 0.0, 0.0, 12.0, 12.0, 12.0, 12.0, 12.0, 12.0, 12.0, 12.0, 12.0, 12.0, 12.0, 12.0, 12.0, 12.0, 12.0, 12.0, 12.0, 12.0, 12.0, 12.0, 12.0, 12.0, 12.0, 12.0, 12.0, 12.0, 12.0, 12.0, 12.0, 12.0, 12.0, 12.0, 12.0, 12.0, 12.0, 12.0, 12.0, 12.0, 12.0, 12.0, 12.0, 12.0, 12.0, 12.0, 12.0, 12.0, 12.0, 12.0, 12.0, 12.0, 12.0, 12.0, 12.0, 12.0, 12.0, 12.0, 12.0, 12.0, 12.0, 12.0, 12.0, 12.0, 12.0, 12.0, 12.0, 12.0, 12.0, 12.0, 12.0, 12.0, 12.0, 12.0, 12.0, 12.0, 0.0, 0.0, 12.0, 12.0, 12.0, 0.0, 0.0, 0.0, 12.0, 12.0, 12.0, 12.0, 12.0, 12.0, 12.0, 12.0, 12.0, 12.0, 12.0, 0.0, 0.0, 0.0, 0.0, 12.0, 12.0, 0.0, 0.0, 0.0, 0.0, 0.0, 0.0, 0.0, 0.0, 0.0, 0.0, 12.0, 12.0, 0.0, 0.0, 0.0, 0.0, 0.0, 0.0, 0.0, 0.0, 0.0, 0.0, 0.0, 0.0, 0.0, 0.0, 0.0, 0.0, 0.0, 0.0, 12.0, 12.0, 12.0, 12.0, 12.0, 12.0, 12.0, 12.0, 12.0, 12.0, 12.0, 12.0, 12.0, 12.0, 12.0, 12.0, 12.0, 12.0, 12.0, 12.0, 12.0, 12.0, 12.0, 12.0, 12.0, 12.0, 12.0, 12.0, 12.0, 12.0, 12.0, 12.0, 12.0, 12.0, 12.0, 12.0, 0.0, 0.0, 12.0, 12.0, 12.0, 12.0, 12.0, 12.0, 12.0, 12.0, 12.0, 12.0, 12.0, 12.0, 12.0, 12.0, 12.0, 0.0, 0.0, 0.0, 0.0, 0.0, 0.0, 0.0, 0.0, 0.0, 0.0, 0.0, 12.0, 12.0, 12.0, 12.0, 12.0, 12.0, 12.0, 12.0, 12.0, 12.0, 12.0, 12.0, 12.0, 12.0, 12.0, 12.0, 12.0, 12.0, 12.0, 12.0, 12.0, 12.0, 16.0, 16.0, 16.0, 12.0, 12.0, 12.0, 12.0, 12.0]\n",
            "****************************************************************************************************\n",
            "mean(Number of Doors):  3.454123112659698\n",
            "standard distribution(Number of Doors):  0.8729459817934137\n",
            "Detected Outliers of Number of Doors are:  []\n",
            "****************************************************************************************************\n"
          ]
        }
      ],
      "source": [
        "normally_distributed_features = ['Engine HP', 'Engine Cylinders', 'Number of Doors']\n",
        "\n",
        "for feature in normally_distributed_features:\n",
        "    mean = df[feature].mean()\n",
        "    std = df[feature].std()\n",
        "    print('mean({}): '.format(feature), mean)\n",
        "    print('standard distribution({}): '.format(feature), std)\n",
        "\n",
        "    threshold = 3\n",
        "    outliers = []\n",
        "    for val in df[feature]:\n",
        "        z_score = (val - mean)/std\n",
        "        if np.abs(z_score) > threshold:\n",
        "            outliers.append(val)\n",
        "    print('Detected Outliers of {} are: '.format(feature), outliers) \n",
        "    print('*'*100)"
      ]
    },
    {
      "cell_type": "markdown",
      "id": "qHVlMO7HRxom",
      "metadata": {
        "id": "qHVlMO7HRxom"
      },
      "source": [
        "### Feature Selection"
      ]
    },
    {
      "cell_type": "markdown",
      "id": "2n-jHRpIR5wI",
      "metadata": {
        "id": "2n-jHRpIR5wI"
      },
      "source": [
        "Correlation Method"
      ]
    },
    {
      "cell_type": "code",
      "execution_count": 101,
      "id": "boypMIsHR4L6",
      "metadata": {
        "colab": {
          "base_uri": "https://localhost:8080/"
        },
        "id": "boypMIsHR4L6",
        "outputId": "fb8a7c75-9bc4-4b94-a73b-462b7a3f11ba"
      },
      "outputs": [
        {
          "data": {
            "text/html": [
              "<div>\n",
              "<style scoped>\n",
              "    .dataframe tbody tr th:only-of-type {\n",
              "        vertical-align: middle;\n",
              "    }\n",
              "\n",
              "    .dataframe tbody tr th {\n",
              "        vertical-align: top;\n",
              "    }\n",
              "\n",
              "    .dataframe thead th {\n",
              "        text-align: right;\n",
              "    }\n",
              "</style>\n",
              "<table border=\"1\" class=\"dataframe\">\n",
              "  <thead>\n",
              "    <tr style=\"text-align: right;\">\n",
              "      <th></th>\n",
              "      <th>Year</th>\n",
              "      <th>Engine HP</th>\n",
              "      <th>Engine Cylinders</th>\n",
              "      <th>Number of Doors</th>\n",
              "      <th>highway MPG</th>\n",
              "      <th>city mpg</th>\n",
              "      <th>Popularity</th>\n",
              "      <th>MSRP</th>\n",
              "    </tr>\n",
              "  </thead>\n",
              "  <tbody>\n",
              "    <tr>\n",
              "      <th>Year</th>\n",
              "      <td>1.000000</td>\n",
              "      <td>0.336208</td>\n",
              "      <td>-0.034148</td>\n",
              "      <td>0.247574</td>\n",
              "      <td>0.244972</td>\n",
              "      <td>0.188417</td>\n",
              "      <td>0.085874</td>\n",
              "      <td>0.209635</td>\n",
              "    </tr>\n",
              "    <tr>\n",
              "      <th>Engine HP</th>\n",
              "      <td>0.336208</td>\n",
              "      <td>1.000000</td>\n",
              "      <td>0.788433</td>\n",
              "      <td>-0.129278</td>\n",
              "      <td>-0.415452</td>\n",
              "      <td>-0.446855</td>\n",
              "      <td>0.042499</td>\n",
              "      <td>0.659174</td>\n",
              "    </tr>\n",
              "    <tr>\n",
              "      <th>Engine Cylinders</th>\n",
              "      <td>-0.034148</td>\n",
              "      <td>0.788433</td>\n",
              "      <td>1.000000</td>\n",
              "      <td>-0.149877</td>\n",
              "      <td>-0.617420</td>\n",
              "      <td>-0.598708</td>\n",
              "      <td>0.038640</td>\n",
              "      <td>0.538712</td>\n",
              "    </tr>\n",
              "    <tr>\n",
              "      <th>Number of Doors</th>\n",
              "      <td>0.247574</td>\n",
              "      <td>-0.129278</td>\n",
              "      <td>-0.149877</td>\n",
              "      <td>1.000000</td>\n",
              "      <td>0.114673</td>\n",
              "      <td>0.120682</td>\n",
              "      <td>-0.057235</td>\n",
              "      <td>-0.144925</td>\n",
              "    </tr>\n",
              "    <tr>\n",
              "      <th>highway MPG</th>\n",
              "      <td>0.244972</td>\n",
              "      <td>-0.415452</td>\n",
              "      <td>-0.617420</td>\n",
              "      <td>0.114673</td>\n",
              "      <td>1.000000</td>\n",
              "      <td>0.886299</td>\n",
              "      <td>-0.017159</td>\n",
              "      <td>-0.166631</td>\n",
              "    </tr>\n",
              "    <tr>\n",
              "      <th>city mpg</th>\n",
              "      <td>0.188417</td>\n",
              "      <td>-0.446855</td>\n",
              "      <td>-0.598708</td>\n",
              "      <td>0.120682</td>\n",
              "      <td>0.886299</td>\n",
              "      <td>1.000000</td>\n",
              "      <td>-0.000549</td>\n",
              "      <td>-0.162343</td>\n",
              "    </tr>\n",
              "    <tr>\n",
              "      <th>Popularity</th>\n",
              "      <td>0.085874</td>\n",
              "      <td>0.042499</td>\n",
              "      <td>0.038640</td>\n",
              "      <td>-0.057235</td>\n",
              "      <td>-0.017159</td>\n",
              "      <td>-0.000549</td>\n",
              "      <td>1.000000</td>\n",
              "      <td>-0.048371</td>\n",
              "    </tr>\n",
              "    <tr>\n",
              "      <th>MSRP</th>\n",
              "      <td>0.209635</td>\n",
              "      <td>0.659174</td>\n",
              "      <td>0.538712</td>\n",
              "      <td>-0.144925</td>\n",
              "      <td>-0.166631</td>\n",
              "      <td>-0.162343</td>\n",
              "      <td>-0.048371</td>\n",
              "      <td>1.000000</td>\n",
              "    </tr>\n",
              "  </tbody>\n",
              "</table>\n",
              "</div>"
            ],
            "text/plain": [
              "                      Year  Engine HP  Engine Cylinders  Number of Doors  \\\n",
              "Year              1.000000   0.336208         -0.034148         0.247574   \n",
              "Engine HP         0.336208   1.000000          0.788433        -0.129278   \n",
              "Engine Cylinders -0.034148   0.788433          1.000000        -0.149877   \n",
              "Number of Doors   0.247574  -0.129278         -0.149877         1.000000   \n",
              "highway MPG       0.244972  -0.415452         -0.617420         0.114673   \n",
              "city mpg          0.188417  -0.446855         -0.598708         0.120682   \n",
              "Popularity        0.085874   0.042499          0.038640        -0.057235   \n",
              "MSRP              0.209635   0.659174          0.538712        -0.144925   \n",
              "\n",
              "                  highway MPG  city mpg  Popularity      MSRP  \n",
              "Year                 0.244972  0.188417    0.085874  0.209635  \n",
              "Engine HP           -0.415452 -0.446855    0.042499  0.659174  \n",
              "Engine Cylinders    -0.617420 -0.598708    0.038640  0.538712  \n",
              "Number of Doors      0.114673  0.120682   -0.057235 -0.144925  \n",
              "highway MPG          1.000000  0.886299   -0.017159 -0.166631  \n",
              "city mpg             0.886299  1.000000   -0.000549 -0.162343  \n",
              "Popularity          -0.017159 -0.000549    1.000000 -0.048371  \n",
              "MSRP                -0.166631 -0.162343   -0.048371  1.000000  "
            ]
          },
          "execution_count": 101,
          "metadata": {},
          "output_type": "execute_result"
        }
      ],
      "source": [
        "correlation = df[['Year', 'Engine HP', 'Engine Cylinders', 'Number of Doors',\n",
        "                   'highway MPG',  'city mpg',  'Popularity', 'MSRP']].corr(method='pearson')\n",
        "correlation"
      ]
    },
    {
      "cell_type": "markdown",
      "id": "0_JWojjJSBaR",
      "metadata": {
        "id": "0_JWojjJSBaR"
      },
      "source": [
        "Correlation Heatmap"
      ]
    },
    {
      "cell_type": "code",
      "execution_count": 108,
      "id": "vp31iv6FR4PG",
      "metadata": {
        "colab": {
          "base_uri": "https://localhost:8080/",
          "height": 671
        },
        "id": "vp31iv6FR4PG",
        "outputId": "b1f957e9-b48d-41d2-b1a1-d9995de977cd"
      },
      "outputs": [
        {
          "data": {
            "image/png": "[encoded data removed]",
            "text/plain": [
              "<Figure size 700x500 with 2 Axes>"
            ]
          },
          "metadata": {},
          "output_type": "display_data"
        }
      ],
      "source": [
        "correlations = correlation.abs()\n",
        "plt.figure(figsize=(7,5))\n",
        "sns.heatmap(correlation, annot=True)\n",
        "plt.show()"
      ]
    }
  ],
  "metadata": {
    "colab": {
      "provenance": []
    },
    "kernelspec": {
      "display_name": "Python 3 (ipykernel)",
      "language": "python",
      "name": "python3"
    },
    "language_info": {
      "codemirror_mode": {
        "name": "ipython",
        "version": 3
      },
      "file_extension": ".py",
      "mimetype": "text/x-python",
      "name": "python",
      "nbconvert_exporter": "python",
      "pygments_lexer": "ipython3",
      "version": "3.10.14"
    }
  },
  "nbformat": 4,
  "nbformat_minor": 5
}
